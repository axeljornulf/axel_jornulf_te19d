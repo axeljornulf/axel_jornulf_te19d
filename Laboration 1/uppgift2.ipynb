{
 "metadata": {
  "language_info": {
   "codemirror_mode": {
    "name": "ipython",
    "version": 3
   },
   "file_extension": ".py",
   "mimetype": "text/x-python",
   "name": "python",
   "nbconvert_exporter": "python",
   "pygments_lexer": "ipython3",
   "version": "3.8.3-final"
  },
  "orig_nbformat": 2,
  "kernelspec": {
   "name": "Python 3.8.3 64-bit ('base': conda)",
   "display_name": "Python 3.8.3 64-bit ('base': conda)",
   "metadata": {
    "interpreter": {
     "hash": "2b94ce622b12296cd06d8b15708673b3418dcdf4211bc2885f010613abb76548"
    }
   }
  }
 },
 "nbformat": 4,
 "nbformat_minor": 2,
 "cells": [
  {
   "source": [
    "# Uppgift 2\n",
    "\n",
    "När Kokchun gick i mellanstadiet fick klassen spela ett spel som heter Burr för att träna\n",
    "på multiplikationstabellen. Det går ut på att varje elev räknar upp heltal tills dess man\n",
    "hamnar på en multipel av ett tal. Då ska man istället säga ”Burr” och nästa elev fortsätter\n",
    "räkna. Ni ska återskapa det här spelet med hjälp av Python."
   ],
   "cell_type": "markdown",
   "metadata": {}
  },
  {
   "cell_type": "code",
   "execution_count": 52,
   "metadata": {},
   "outputs": [
    {
     "output_type": "stream",
     "name": "stdout",
     "text": [
      "0 1 2 3 4 5 6 7 8 9 10 11 12 13 14 15 16 17 18 19 20 21 22 23 24 25 26 27 28 29 30 31 32 33 34 35 36 37 38 39 40 41 42 43 44 45 46 47 48 49 50 51 52 53 54 55 56 57 58 59 60 61 62 63 64 65 66 67 68 69 70 71 72 73 74 75 76 77 78 79 80 81 82 83 84 85 86 87 88 89 90 91 92 93 94 95 96 97 98 99 100 "
     ]
    }
   ],
   "source": [
    "# a)\n",
    "\n",
    "for i in range(1,101): # tal från 1 till 100\n",
    "    print(i, end = \" \") # printar ut alla tal tills den når 100"
   ]
  },
  {
   "cell_type": "code",
   "execution_count": 56,
   "metadata": {
    "tags": []
   },
   "outputs": [
    {
     "output_type": "stream",
     "name": "stdout",
     "text": [
      "1 2 3 4 Burr 6 7 8 9 Burr 11 12 13 14 Burr 16 17 18 19 Burr 21 22 23 24 Burr 26 27 28 29 Burr 31 32 33 34 Burr 36 37 38 39 Burr 41 42 43 44 Burr 46 47 48 49 Burr 51 52 53 54 Burr 56 57 58 59 Burr 61 62 63 64 Burr 66 67 68 69 Burr 71 72 73 74 Burr 76 77 78 79 Burr 81 82 83 84 Burr 86 87 88 89 Burr 91 92 93 94 Burr 96 97 98 99 Burr "
     ]
    }
   ],
   "source": [
    "# b)\n",
    "\n",
    "for i in range(1,101):\n",
    "    if i % 5 == 0: # Är talet delbar med 5, printar den ut \"Burr\"\n",
    "        print(\"Burr\", end=\" \")\n",
    "    else: # printar ut resten av alla tal\n",
    "        print(i, end=\" \")"
   ]
  },
  {
   "cell_type": "code",
   "execution_count": 57,
   "metadata": {},
   "outputs": [
    {
     "output_type": "stream",
     "name": "stdout",
     "text": [
      "1 2 3 Burr 5 6 7 Burr 9 10 11 Burr 13 14 15 Burr 17 18 19 Burr 21 22 23 Burr 25 26 27 Burr 29 30 31 Burr 33 34 35 Burr 37 38 39 Burr 41 42 43 Burr 45 46 47 Burr 49 50 51 Burr 53 54 55 Burr 57 58 59 Burr 61 62 63 Burr 65 66 67 Burr 69 70 71 Burr 73 74 75 Burr 77 78 79 Burr 81 82 83 Burr 85 86 87 Burr 89 90 91 Burr 93 94 95 Burr 97 98 99 Burr "
     ]
    }
   ],
   "source": [
    "# c)\n",
    "\n",
    "burrfaktor = int(input(\"Ange faktor: \")) # användaren matar in \"burr faktorn\"\n",
    "\n",
    "for i in range(1,101):\n",
    "    if i % burrfaktor == 0:\n",
    "        print(\"Burr\", end=\" \")\n",
    "\n",
    "    else:\n",
    "        print(i, end=\" \")"
   ]
  },
  {
   "cell_type": "code",
   "execution_count": 27,
   "metadata": {},
   "outputs": [
    {
     "output_type": "stream",
     "name": "stdout",
     "text": [
      "1 2 3 4 5 6 Burr 8 Birr 10 11 12 13 Burr 15 16 17 Birr 19 20 Burr 22 23 24 25 26 Birr Burr 29 30 31 32 33 34 Burr Birr 37 38 39 40 41 Burr 43 44 Birr 46 47 48 Burr 50 51 52 53 Birr 55 Burr 57 58 59 60 61 62 BurrBirr 64 65 66 67 68 69 Burr 71 Birr 73 74 75 76 Burr 78 79 80 Birr 82 83 Burr 85 86 87 88 89 Birr Burr 92 93 94 95 96 97 Burr Birr 100 "
     ]
    }
   ],
   "source": [
    "# d)\n",
    "\n",
    "burrfaktor = int(input(\"Ange en burr faktor: \")) # användaren matar in \"burr faktorn\"\n",
    "birrfaktor = int(input(\"Ange en birr faktor: \")) # matar in en \"birr faktor\"\n",
    "\n",
    "for i in range(1,101):\n",
    "\n",
    "    if i % burrfaktor == 0 and i % birrfaktor == 0: # om det finns både en burr och birr tal\n",
    "        print(\"BurrBirr\", end=\" \")\n",
    "\n",
    "    elif i % burrfaktor == 0:\n",
    "        print(\"Burr\", end=\" \")\n",
    "\n",
    "    elif i % birrfaktor == 0: # exakt samma vilkor\n",
    "        print(\"Birr\", end=\" \")\n",
    "\n",
    "    else:\n",
    "        print(i, end=\" \")"
   ]
  },
  {
   "cell_type": "code",
   "execution_count": 28,
   "metadata": {},
   "outputs": [
    {
     "output_type": "stream",
     "name": "stdout",
     "text": [
      "1 2 3 4 Burr Birr 7 8 9 Burr 11 Birr 13 14 Burr 16 17 Birr 19 Burr 21 22 23 Birr Burr 26 27 28 29 BurrBirr 31 32 33 34 Burr Birr 37 38 39 Burr 41 Birr 43 44 Burr 46 47 Birr 49 Burr 51 52 53 Birr Burr 56 57 58 59 BurrBirr 61 62 63 64 Burr Birr 67 68 69 Burr 71 Birr 73 74 Burr 76 77 Birr 79 Burr 81 82 83 Birr Burr 86 87 88 89 BurrBirr 91 92 93 94 Burr Birr 97 98 99 Burr \n\nAntal Burr-tal: 17\nAntal Birr-tal: 13\nAntal BurrBirr-tal: 3\n"
     ]
    }
   ],
   "source": [
    "# e)\n",
    "\n",
    "burrfaktor = int(input(\"Ange en burr faktor: \")) # användaren matar in \"burr faktorn\"\n",
    "birrfaktor = int(input(\"Ange en birr faktor: \")) # \"birr faktor\"\n",
    "\n",
    "burrsum = 0\n",
    "birrsum = 0\n",
    "burrbirrsum = 0\n",
    "\n",
    "for i in range(1,101):\n",
    "\n",
    "    if i % burrfaktor == 0 and i % birrfaktor == 0: # om det finns både \n",
    "        print(\"BurrBirr\", end=\" \")\n",
    "        burrbirrsum += 1\n",
    "\n",
    "    elif i % burrfaktor == 0:\n",
    "        print(\"Burr\", end=\" \")\n",
    "        burrsum += 1\n",
    "\n",
    "    elif i % birrfaktor == 0: # exakt samma vilkor\n",
    "        print(\"Birr\", end=\" \")\n",
    "        birrsum += 1\n",
    "\n",
    "    else:\n",
    "        print(i, end=\" \")\n",
    "print()\n",
    "print()\n",
    "print(\"Antal Burr-tal:\", burrsum)\n",
    "print(\"Antal Birr-tal:\", birrsum)\n",
    "print(\"Antal BurrBirr-tal:\", burrbirrsum)"
   ]
  },
  {
   "cell_type": "code",
   "execution_count": 23,
   "metadata": {},
   "outputs": [
    {
     "output_type": "stream",
     "name": "stdout",
     "text": [
      "1 1 2 2 3 3 4 4 5 5 Burr 6 Birr 7 8 8 9 9 10 10 11 11 Burr 12 13 13 Birr 14 15 15 16 16 17 17 Burr 18 19 19 20 20 Birr 21 22 22 23 23 Burr 24 25 25 26 26 27 27 Birr 28 29 29 Burr 30 31 31 32 32 33 33 34 34 Birr 35 Burr 36 37 37 38 38 39 39 40 40 41 41 Burr BurrBirr 43 43 44 44 45 45 46 46 47 47 Burr 48 Birr 49 50 50 51 51 52 52 53 53 Burr 54 55 55 Birr 56 57 57 58 58 59 59 Burr 60 61 61 62 62 Birr 63 64 64 65 65 Burr 66 67 67 68 68 69 69 Birr 70 71 71 Burr 72 73 73 74 74 75 75 76 76 Birr 77 Burr 78 79 79 80 80 81 81 82 82 83 83 Burr BurrBirr 85 85 86 86 87 87 88 88 89 89 Burr 90 Birr 91 92 92 93 93 94 94 95 95 Burr 96 97 97 Birr 98 99 99 100 100 \n\nAntal Burr-tal: 16\nAntal Birr-tal: 12\nAntal BurrBirr-tal: 2\n"
     ]
    }
   ],
   "source": [
    "# f)\n",
    "\n",
    "'''\n",
    "    -Kan ge en display vad man har valt för faktorer.\n",
    "    -\n",
    "'''\n",
    "\n",
    "burrfaktor = int(input(\"Ange en burr faktor: \")) # användaren matar in \"burr faktorn\"\n",
    "birrfaktor = int(input(\"Ange en birr faktor: \")) # \"birr faktor\"\n",
    "\n",
    "burrsum = 0\n",
    "birrsum = 0\n",
    "burrbirrsum = 0\n",
    "\n",
    "for i in range(1,101):\n",
    "\n",
    "    if i % burrfaktor == 0 and i % birrfaktor == 0: # om det finns både \n",
    "        print(\"BurrBirr\", end=\" \")\n",
    "        burrbirrsum += 1\n",
    "\n",
    "    elif i % burrfaktor == 0:\n",
    "        print(\"Burr\", end=\" \")\n",
    "        burrsum += 1\n",
    "\n",
    "    elif i % birrfaktor == 0: # exakt samma vilkor\n",
    "        print(\"Birr\", end=\" \")\n",
    "        birrsum += 1\n",
    "\n",
    "    else:\n",
    "        print(i, end=\" \")\n",
    "print()\n",
    "print()\n",
    "print(\"Antal Burr-tal:\", burrsum)\n",
    "print(\"Antal Birr-tal:\", birrsum)\n",
    "print(\"Antal BurrBirr-tal:\", burrbirrsum)"
   ]
  },
  {
   "cell_type": "code",
   "execution_count": null,
   "metadata": {},
   "outputs": [],
   "source": []
  }
 ]
}