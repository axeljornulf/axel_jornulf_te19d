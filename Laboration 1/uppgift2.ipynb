{
 "metadata": {
  "language_info": {
   "codemirror_mode": {
    "name": "ipython",
    "version": 3
   },
   "file_extension": ".py",
   "mimetype": "text/x-python",
   "name": "python",
   "nbconvert_exporter": "python",
   "pygments_lexer": "ipython3",
   "version": "3.8.3-final"
  },
  "orig_nbformat": 2,
  "kernelspec": {
   "name": "Python 3.8.3 64-bit ('Axel': virtualenv)",
   "display_name": "Python 3.8.3 64-bit ('Axel': virtualenv)",
   "metadata": {
    "interpreter": {
     "hash": "68baef9b14bcf39f9d26db8e9f8d6f62893a325e07f78abc1611be81daff26f8"
    }
   }
  }
 },
 "nbformat": 4,
 "nbformat_minor": 2,
 "cells": [
  {
   "source": [
    "# Uppgift 2\n",
    "\n",
    "När Kokchun gick i mellanstadiet fick klassen spela ett spel som heter Burr för att träna\n",
    "på multiplikationstabellen. Det går ut på att varje elev räknar upp heltal tills dess man\n",
    "hamnar på en multipel av ett tal. Då ska man istället säga ”Burr” och nästa elev fortsätter\n",
    "räkna. Ni ska återskapa det här spelet med hjälp av Python."
   ],
   "cell_type": "markdown",
   "metadata": {}
  },
  {
   "cell_type": "code",
   "execution_count": 52,
   "metadata": {},
   "outputs": [
    {
     "output_type": "stream",
     "name": "stdout",
     "text": [
      "0 1 2 3 4 5 6 7 8 9 10 11 12 13 14 15 16 17 18 19 20 21 22 23 24 25 26 27 28 29 30 31 32 33 34 35 36 37 38 39 40 41 42 43 44 45 46 47 48 49 50 51 52 53 54 55 56 57 58 59 60 61 62 63 64 65 66 67 68 69 70 71 72 73 74 75 76 77 78 79 80 81 82 83 84 85 86 87 88 89 90 91 92 93 94 95 96 97 98 99 100 "
     ]
    }
   ],
   "source": [
    "# a)\n",
    "\n",
    "for i in range(1,101): # tal från 1 till 100\n",
    "    print(i, end = \" \") # printar ut alla tal tills den når 100"
   ]
  },
  {
   "cell_type": "code",
   "execution_count": 56,
   "metadata": {
    "tags": []
   },
   "outputs": [
    {
     "output_type": "stream",
     "name": "stdout",
     "text": [
      "1 2 3 4 Burr 6 7 8 9 Burr 11 12 13 14 Burr 16 17 18 19 Burr 21 22 23 24 Burr 26 27 28 29 Burr 31 32 33 34 Burr 36 37 38 39 Burr 41 42 43 44 Burr 46 47 48 49 Burr 51 52 53 54 Burr 56 57 58 59 Burr 61 62 63 64 Burr 66 67 68 69 Burr 71 72 73 74 Burr 76 77 78 79 Burr 81 82 83 84 Burr 86 87 88 89 Burr 91 92 93 94 Burr 96 97 98 99 Burr "
     ]
    }
   ],
   "source": [
    "# b)\n",
    "\n",
    "for i in range(1,101):\n",
    "    if i % 5 == 0: # om i är 5 av rester efter division som likar med 0, ska programmet då printa ut \"Burr\" istället för nummret\n",
    "        print(\"Burr\", end=\" \")\n",
    "    else: # printar ut alla tal\n",
    "        print(i, end=\" \")"
   ]
  },
  {
   "cell_type": "code",
   "execution_count": 57,
   "metadata": {},
   "outputs": [
    {
     "output_type": "stream",
     "name": "stdout",
     "text": [
      "1 2 3 Burr 5 6 7 Burr 9 10 11 Burr 13 14 15 Burr 17 18 19 Burr 21 22 23 Burr 25 26 27 Burr 29 30 31 Burr 33 34 35 Burr 37 38 39 Burr 41 42 43 Burr 45 46 47 Burr 49 50 51 Burr 53 54 55 Burr 57 58 59 Burr 61 62 63 Burr 65 66 67 Burr 69 70 71 Burr 73 74 75 Burr 77 78 79 Burr 81 82 83 Burr 85 86 87 Burr 89 90 91 Burr 93 94 95 Burr 97 98 99 Burr "
     ]
    }
   ],
   "source": [
    "# c)\n",
    "\n",
    "burrfaktor = int(input(\"Ange faktor: \")) # användaren matar in \"burr faktorn\"\n",
    "\n",
    "for i in range(1,101):\n",
    "    if i % burrfaktor == 0:\n",
    "        print(\"Burr\", end=\" \")\n",
    "\n",
    "    else:\n",
    "        print(i, end=\" \")"
   ]
  },
  {
   "cell_type": "code",
   "execution_count": 58,
   "metadata": {},
   "outputs": [
    {
     "output_type": "stream",
     "name": "stdout",
     "text": [
      "1 2 3 4 Burr 5 6 7 Birr 9 Burr 10 11 12 13 14 Burr 15 Birr 17 18 19 Burr 20 21 22 23 Birr Burr 25 26 27 28 29 Burr 30 31 Birr 33 34 Burr 35 36 37 38 39 Burr Birr 41 42 43 44 Burr 45 46 47 Birr 49 Burr 50 51 52 53 54 Burr 55 Birr 57 58 59 Burr 60 61 62 63 Birr Burr 65 66 67 68 69 Burr 70 71 Birr 73 74 Burr 75 76 77 78 79 Burr Birr 81 82 83 84 Burr 85 86 87 Birr 89 Burr 90 91 92 93 94 Burr 95 Birr 97 98 99 Burr 100 "
     ]
    }
   ],
   "source": [
    "# d)\n",
    "\n",
    "burrfaktor = int(input(\"Ange en burr faktor: \")) # användaren matar in \"burr faktorn\"\n",
    "birrfaktor = int(input(\"Ange en birr faktor: \"))\n",
    "\n",
    "for i in range(1,101):\n",
    "    if i % burrfaktor == 0:\n",
    "        print(\"Burr\", end=\" \")\n",
    "\n",
    "    if i % birrfaktor == 0: # exakt samma vilkor\n",
    "        print(\"Birr\", end=\" \")\n",
    "\n",
    "    else:\n",
    "        print(i, end=\" \")"
   ]
  },
  {
   "cell_type": "code",
   "execution_count": null,
   "metadata": {},
   "outputs": [],
   "source": []
  }
 ]
}