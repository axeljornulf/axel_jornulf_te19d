{
 "metadata": {
  "language_info": {
   "codemirror_mode": {
    "name": "ipython",
    "version": 3
   },
   "file_extension": ".py",
   "mimetype": "text/x-python",
   "name": "python",
   "nbconvert_exporter": "python",
   "pygments_lexer": "ipython3",
   "version": "3.8.3-final"
  },
  "orig_nbformat": 2,
  "kernelspec": {
   "name": "Python 3.8.3 64-bit ('Axel': virtualenv)",
   "display_name": "Python 3.8.3 64-bit ('Axel': virtualenv)",
   "metadata": {
    "interpreter": {
     "hash": "68baef9b14bcf39f9d26db8e9f8d6f62893a325e07f78abc1611be81daff26f8"
    }
   }
  }
 },
 "nbformat": 4,
 "nbformat_minor": 2,
 "cells": [
  {
   "source": [
    "# Uppgift 1\n",
    "\n",
    "Tänk dig en cirkel med radien 1 l.e. inskriven i en kvadrat med sida 2 l.e. Programmet simulerar en \"pilkastning\" mot en yta.\n"
   ],
   "cell_type": "markdown",
   "metadata": {}
  },
  {
   "cell_type": "code",
   "execution_count": 33,
   "metadata": {
    "tags": []
   },
   "outputs": [
    {
     "output_type": "stream",
     "name": "stdout",
     "text": "Från origon till punkten [0.5, 0.5] är det 0.7071067811865476 l.e.\n"
    }
   ],
   "source": [
    "# a) avståndet mellan origon och (0.5, 0.5)\n",
    "\n",
    "import math\n",
    "\n",
    "p1 = [0, 0] # Origon\n",
    "p2 = [0.5, 0.5] # Punkten x och y\n",
    "\n",
    "# Avståndsformeln med Pythagoras sats -> a^2 + b^2 = c^2\n",
    "\n",
    "distance = math.sqrt(((p1[0]-p2[0])**2)+((p1[1]-p2[1])**2)) #beräknar distansen mellan plot 1 och plot 2\n",
    "print(f\"Från origon till punkten {p2} är det {distance} l.e.\") # printar ut resultatet."
   ]
  },
  {
   "cell_type": "code",
   "execution_count": 34,
   "metadata": {
    "tags": []
   },
   "outputs": [
    {
     "output_type": "stream",
     "name": "stdout",
     "text": "Från origon till punkten [1, 1] är det 1.4142135623730951 l.e.\n"
    }
   ],
   "source": [
    "# b) avståndet mellan origon och (1,1)\n",
    "\n",
    "import math\n",
    "\n",
    "p1 = [0, 0] # Origon\n",
    "p2 = [1, 1] # Punkten x och y\n",
    "\n",
    "distance = math.sqrt(((p1[0]-p2[0])**2)+((p1[1]-p2[1])**2)) #beräknar distansen mellan plot 1 och plot 2\n",
    "print(f\"Från origon till punkten {p2} är det {distance} l.e.\") # printar ut resultatet."
   ]
  },
  {
   "cell_type": "code",
   "execution_count": 11,
   "metadata": {
    "tags": []
   },
   "outputs": [
    {
     "output_type": "stream",
     "name": "stdout",
     "text": [
      "Från origon till punkten [0.5, -0.5] är det 0.7071067811865476 l.e.\n"
     ]
    }
   ],
   "source": [
    "# c) avståndet mellan origon och (0.5,-0.5)\n",
    "\n",
    "import math\n",
    "\n",
    "p1 = [0, 0] # Origon\n",
    "p2 = [0.5, -0.5] # Punkten x och y\n",
    "\n",
    "distance = math.sqrt(((p1[0]-p2[0])**2)+((p1[1]-p2[1])**2)) #beräknar distansen mellan plot 1 och plot 2\n",
    "\n",
    "print(f\"Från origon till punkten {p2} är det {distance} l.e.\") # printar ut resultatet."
   ]
  },
  {
   "cell_type": "code",
   "execution_count": 76,
   "metadata": {},
   "outputs": [
    {
     "output_type": "stream",
     "name": "stdout",
     "text": [
      "0.9194655343814966\n-0.17616422674295973\n0.8339843506206206\n0.016726893482531313\n0.38500747790608125\n-0.09249280071507648\n0.46968695106687863\n0.42326135795748\n0.4636660745965364\n-0.8107775916518867\n-0.8239407040970859\n"
     ]
    }
   ],
   "source": [
    "# d) Simulera många punkter slumpmässigt mellan -1 och 1 för x- och y-koordinater, genom att använda funktionen random.uniform(-1,1).\n",
    "\n",
    "import random as rmd\n",
    "\n",
    "for i in range(1,11):\n",
    "    plots = rmd.uniform(-1,1)\n",
    "    print(plots) # Printar ut antal punkter i en range of 0 - 11"
   ]
  },
  {
   "cell_type": "code",
   "execution_count": null,
   "metadata": {},
   "outputs": [],
   "source": [
    "import random as rmd\n",
    "\n",
    "antalplot = 1\n",
    "koordinat = [-1,1]\n",
    "\n",
    "for i in range(0,11): \n",
    "    koordinat.append(antalplot + 1)\n",
    "    antalplot += 1\n",
    "\n",
    "print(koordinat)"
   ]
  }
 ]
}