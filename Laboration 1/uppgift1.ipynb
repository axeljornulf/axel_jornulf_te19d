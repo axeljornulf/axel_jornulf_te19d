{
 "metadata": {
  "language_info": {
   "codemirror_mode": {
    "name": "ipython",
    "version": 3
   },
   "file_extension": ".py",
   "mimetype": "text/x-python",
   "name": "python",
   "nbconvert_exporter": "python",
   "pygments_lexer": "ipython3",
   "version": "3.8.3-final"
  },
  "orig_nbformat": 2,
  "kernelspec": {
   "name": "Python 3.8.3 64-bit ('base': conda)",
   "display_name": "Python 3.8.3 64-bit ('base': conda)",
   "metadata": {
    "interpreter": {
     "hash": "2b94ce622b12296cd06d8b15708673b3418dcdf4211bc2885f010613abb76548"
    }
   }
  }
 },
 "nbformat": 4,
 "nbformat_minor": 2,
 "cells": [
  {
   "source": [
    "# Uppgift 1\n",
    "\n",
    "Tänk dig en cirkel med radien 1 l.e. inskriven i en kvadrat med sida 2 l.e. Programmet simulerar en \"pilkastning\" mot en yta.\n"
   ],
   "cell_type": "markdown",
   "metadata": {}
  },
  {
   "cell_type": "code",
   "execution_count": 33,
   "metadata": {
    "tags": []
   },
   "outputs": [
    {
     "output_type": "stream",
     "name": "stdout",
     "text": "Från origon till punkten [0.5, 0.5] är det 0.7071067811865476 l.e.\n"
    }
   ],
   "source": [
    "# a) avståndet mellan origon och (0.5, 0.5)\n",
    "\n",
    "import math\n",
    "\n",
    "p1 = [0, 0] # Origon\n",
    "p2 = [0.5, 0.5] # Punkten x och y\n",
    "\n",
    "distance = math.sqrt(((p1[0]-p2[0])**2)+((p1[1]-p2[1])**2)) #beräknar distansen mellan plot 1 och plot 2\n",
    "print(f\"Från origon till punkten {p2} är det {distance} l.e.\") # printar ut resultatet."
   ]
  },
  {
   "cell_type": "code",
   "execution_count": 34,
   "metadata": {
    "tags": []
   },
   "outputs": [
    {
     "output_type": "stream",
     "name": "stdout",
     "text": "Från origon till punkten [1, 1] är det 1.4142135623730951 l.e.\n"
    }
   ],
   "source": [
    "# b) avståndet mellan origon och (1,1)\n",
    "\n",
    "import math\n",
    "\n",
    "p1 = [0, 0] # Origon\n",
    "p2 = [1, 1] # Punkten x och y\n",
    "\n",
    "distance = math.sqrt(((p1[0]-p2[0])**2)+((p1[1]-p2[1])**2)) #beräknar distansen mellan plot 1 och plot 2\n",
    "print(f\"Från origon till punkten {p2} är det {distance} l.e.\") # printar ut resultatet."
   ]
  },
  {
   "cell_type": "code",
   "execution_count": 35,
   "metadata": {
    "tags": []
   },
   "outputs": [
    {
     "output_type": "stream",
     "name": "stdout",
     "text": "Från origon till punkten [0.5, -0.5] är det 0.7071067811865476 l.e.\n"
    }
   ],
   "source": [
    "# c) avståndet mellan origon och (0.5,-0.5)\n",
    "\n",
    "import math\n",
    "\n",
    "p1 = [0, 0] # Origon\n",
    "p2 = [0.5, -0.5] # Punkten x och y\n",
    "\n",
    "distance = math.sqrt(((p1[0]-p2[0])**2)+((p1[1]-p2[1])**2)) #beräknar distansen mellan plot 1 och plot 2\n",
    "print(f\"Från origon till punkten {p2} är det {distance} l.e.\") # printar ut resultatet."
   ]
  },
  {
   "cell_type": "code",
   "execution_count": null,
   "metadata": {},
   "outputs": [],
   "source": []
  }
 ]
}