{
 "metadata": {
  "language_info": {
   "codemirror_mode": {
    "name": "ipython",
    "version": 3
   },
   "file_extension": ".py",
   "mimetype": "text/x-python",
   "name": "python",
   "nbconvert_exporter": "python",
   "pygments_lexer": "ipython3",
   "version": "3.8.3-final"
  },
  "orig_nbformat": 2,
  "kernelspec": {
   "name": "Python 3.8.3 64-bit ('base': conda)",
   "display_name": "Python 3.8.3 64-bit ('base': conda)",
   "metadata": {
    "interpreter": {
     "hash": "68baef9b14bcf39f9d26db8e9f8d6f62893a325e07f78abc1611be81daff26f8"
    }
   }
  }
 },
 "nbformat": 4,
 "nbformat_minor": 2,
 "cells": [
  {
   "cell_type": "code",
   "execution_count": 5,
   "metadata": {
    "tags": []
   },
   "outputs": [
    {
     "output_type": "stream",
     "name": "stdout",
     "text": "Jämna tal från 0 till 20\n0 2 4 6 8 10 12 14 16 18 20 "
    }
   ],
   "source": [
    "n = 0\n",
    "'''\n",
    "while n < 10:\n",
    "    print(n, end=\" \")\n",
    "    n += 1\n",
    "'''\n",
    "\n",
    "print(\"Jämna tal från 0 till 20\")\n",
    "while n <= 20:\n",
    "    print(n, end=\" \")\n",
    "    n += 2"
   ]
  },
  {
   "source": [
    "While-stas används när man inte vet antal gånger man vill upprepa\n",
    "\n",
    "For-sats används när man vet ett bestämt antal gånger man vill upprepa"
   ],
   "cell_type": "markdown",
   "metadata": {}
  },
  {
   "source": [
    "# Miljöutsläpp\n",
    "\n",
    "Ett miljöutsläpp halverar fågelpopulationen i en ö varje år\n",
    "\n",
    "Fågelpopulationen började på 8000st\n",
    "\n",
    "Hur många år tar det tills populationen understiger en tiondel?"
   ],
   "cell_type": "markdown",
   "metadata": {}
  },
  {
   "cell_type": "code",
   "execution_count": 7,
   "metadata": {
    "tags": []
   },
   "outputs": [
    {
     "output_type": "stream",
     "name": "stdout",
     "text": "År 0: antal fåglar: 8000\nÅr 1: antal fåglar: 4000.0\nÅr 2: antal fåglar: 2000.0\nÅr 3: antal fåglar: 1000.0\nÅr 4: antal fåglar: 500.0\n"
    }
   ],
   "source": [
    "fåglar = 8000\n",
    "år = 0\n",
    "\n",
    "print(f\"År {år}: antal fåglar: {fåglar}\")\n",
    "\n",
    "while fåglar > 800:\n",
    "    år += 1\n",
    "    fåglar /= 2\n",
    "    print(f\"År {år}: antal fåglar: {fåglar}\")\n",
    "\n"
   ]
  },
  {
   "cell_type": "code",
   "execution_count": null,
   "metadata": {},
   "outputs": [],
   "source": []
  }
 ]
}