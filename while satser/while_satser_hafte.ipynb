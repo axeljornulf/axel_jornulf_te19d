{
 "metadata": {
  "language_info": {
   "codemirror_mode": {
    "name": "ipython",
    "version": 3
   },
   "file_extension": ".py",
   "mimetype": "text/x-python",
   "name": "python",
   "nbconvert_exporter": "python",
   "pygments_lexer": "ipython3",
   "version": "3.8.3-final"
  },
  "orig_nbformat": 2,
  "kernelspec": {
   "name": "Python 3.8.3 64-bit ('base')",
   "display_name": "Python 3.8.3 64-bit ('base')",
   "metadata": {
    "interpreter": {
     "hash": "2b94ce622b12296cd06d8b15708673b3418dcdf4211bc2885f010613abb76548"
    }
   }
  }
 },
 "nbformat": 4,
 "nbformat_minor": 2,
 "cells": [
  {
   "cell_type": "code",
   "execution_count": 20,
   "metadata": {
    "tags": []
   },
   "outputs": [
    {
     "output_type": "stream",
     "name": "stdout",
     "text": "5050\n"
    }
   ],
   "source": [
    "#Övning 1\n",
    "\n",
    "s = 0\n",
    "n = 0\n",
    "\n",
    "while n < 100:\n",
    "    n += 1\n",
    "    s += n\n",
    "print(s)\n"
   ]
  },
  {
   "cell_type": "code",
   "execution_count": 16,
   "metadata": {
    "tags": []
   },
   "outputs": [
    {
     "output_type": "stream",
     "name": "stdout",
     "text": "2550\n"
    }
   ],
   "source": [
    "#Övning 2\n",
    "\n",
    "s = 0\n",
    "n = 0\n",
    "\n",
    "while n < 99:\n",
    "    n += 2\n",
    "    s += n\n",
    "\n",
    "print(s)"
   ]
  },
  {
   "cell_type": "code",
   "execution_count": 23,
   "metadata": {
    "tags": []
   },
   "outputs": [
    {
     "output_type": "stream",
     "name": "stdout",
     "text": "1.8125152587890625\n"
    }
   ],
   "source": [
    "#Övning 3\n",
    "\n",
    "n = 0\n",
    "s = 0\n",
    "\n",
    "while n < 10000:\n",
    "    n = 2**n\n",
    "    s += 1/n #antal n divideras med 1\n",
    "print(s)"
   ]
  },
  {
   "cell_type": "code",
   "execution_count": 45,
   "metadata": {},
   "outputs": [],
   "source": [
    "#Övning 4"
   ]
  },
  {
   "cell_type": "code",
   "execution_count": 54,
   "metadata": {
    "tags": []
   },
   "outputs": [
    {
     "output_type": "stream",
     "name": "stdout",
     "text": "Du gissade fel! Talet var för lågt.\nDu gissade fel! Talet var för lågt.\nDu gissade fel! Talet var för lågt.\nDu gissade fel! Talet var för högt.\nDu gissade fel! Talet var för högt.\nDu gissade fel! Talet var för högt.\nDu gissade fel! Talet var för högt.\nDu gissade fel! Talet var för lågt.\nDu gissade fel! Talet var för högt.\nGrattis Axel! Du gissade rätt! Nummret var 34.\n"
    }
   ],
   "source": [
    "#Övning 5\n",
    "\n",
    "import random as rmd\n",
    "\n",
    "name = input(\"Sätt in användarnamn:\")\n",
    "\n",
    "nummer = rmd.randint(1,100)\n",
    "\n",
    "while n != nummer:\n",
    "    n = int(input(\"Gissa ett heltal mellan 0 och 100:\"))\n",
    "    if n < nummer:\n",
    "        print(\"Du gissade fel! Talet var för lågt.\")\n",
    "    elif n > nummer:\n",
    "        print(\"Du gissade fel! Talet var för högt.\")\n",
    "    else:\n",
    "        print(f\"Grattis {name}! Du gissade rätt! Nummret var {nummer}.\")"
   ]
  },
  {
   "cell_type": "code",
   "execution_count": null,
   "metadata": {},
   "outputs": [],
   "source": []
  }
 ]
}