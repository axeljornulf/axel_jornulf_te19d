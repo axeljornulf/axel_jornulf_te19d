{
 "metadata": {
  "language_info": {
   "codemirror_mode": {
    "name": "ipython",
    "version": 3
   },
   "file_extension": ".py",
   "mimetype": "text/x-python",
   "name": "python",
   "nbconvert_exporter": "python",
   "pygments_lexer": "ipython3",
   "version": "3.8.3-final"
  },
  "orig_nbformat": 2,
  "kernelspec": {
   "name": "python3",
   "display_name": "Python 3"
  }
 },
 "nbformat": 4,
 "nbformat_minor": 2,
 "cells": [
  {
   "cell_type": "code",
   "execution_count": 19,
   "metadata": {},
   "outputs": [],
   "source": [
    "# Uppgift 1 a)\n",
    "\n",
    "def aritmetisk_summa(n,a1,an):\n",
    "    antal = a1 + an\n",
    "    antal = antal * n\n",
    "    antal = antal/2\n",
    "    print(antal)"
   ]
  },
  {
   "cell_type": "code",
   "execution_count": 21,
   "metadata": {},
   "outputs": [
    {
     "output_type": "stream",
     "name": "stdout",
     "text": [
      "5050.0\n"
     ]
    }
   ],
   "source": [
    "# Uppgift 1 b)\n",
    "\n",
    "def aritmetisk_summa(n,a1,an):\n",
    "    antal = a1 + an\n",
    "    antal = antal * n\n",
    "    antal = antal/2\n",
    "    print(antal)\n",
    "\n",
    "aritmetisk_summa(100,1,100)"
   ]
  },
  {
   "cell_type": "code",
   "execution_count": 22,
   "metadata": {},
   "outputs": [
    {
     "output_type": "stream",
     "name": "stdout",
     "text": [
      "Din beräkning:\ns50 = 1 + 2 + 3 + ... + 50 = 1275.0\n"
     ]
    }
   ],
   "source": [
    "# Uppgift 1 c)\n",
    "\n",
    "nInput = int(input(\"Ange n-värde: \"))\n",
    "a1Input = int(input(\"Ange a1: \"))\n",
    "anInput = int(input(\"Ange an: \"))\n",
    "\n",
    "def aritmetisk_summa(n,a1,an):\n",
    "    antal = a1 + an\n",
    "    antal = antal * n\n",
    "    antal = antal/2\n",
    "    print(\"Din beräkning:\")\n",
    "    print(f\"s{n} = {a1} + {a1 + 1} + {a1 + 2} + ... + {an} = {antal}\")\n",
    "\n",
    "aritmetisk_summa(nInput,a1Input,anInput)\n"
   ]
  },
  {
   "cell_type": "code",
   "execution_count": 30,
   "metadata": {},
   "outputs": [
    {
     "output_type": "stream",
     "name": "stdout",
     "text": [
      "Din resultat är 3004\n"
     ]
    }
   ],
   "source": [
    "# Uppgift 2 a)\n",
    "\n",
    "def formel(n):\n",
    "    s = 0\n",
    "    while n < 1000:\n",
    "        n = 2*n\n",
    "        s += n+1\n",
    "    print(f\"Din resultat är {s}\")\n",
    "    \n",
    "n = 100\n",
    "\n",
    "formel(n)"
   ]
  },
  {
   "cell_type": "code",
   "execution_count": 32,
   "metadata": {},
   "outputs": [
    {
     "output_type": "stream",
     "name": "stdout",
     "text": [
      "För 42 ger din resultat är 2609\n"
     ]
    }
   ],
   "source": [
    "# Uppgift 2 b)\n",
    "\n",
    "inp = int(input(\"Ange n värde: \"))\n",
    "\n",
    "def formel(n):\n",
    "    s = 0\n",
    "    while n < 1000:\n",
    "        n = 2*n\n",
    "        s += n+1\n",
    "    print(f\"För {inp} ger din resultat är {s}\")\n",
    "\n",
    "formel(inp)"
   ]
  },
  {
   "cell_type": "code",
   "execution_count": 37,
   "metadata": {},
   "outputs": [
    {
     "output_type": "stream",
     "name": "stdout",
     "text": [
      "Avståndet mellan punkt 1 och punkt 2 är 5 le\n"
     ]
    }
   ],
   "source": [
    "# Uppgift 3 a)\n",
    "\n",
    "import math\n",
    "\n",
    "p1 = [3,3]\n",
    "p2 = [-2,1]\n",
    "\n",
    "avstånd = round(math.sqrt(((p1[0] - p2[0])**2) + ((p1[1] - p2[1])**2)))\n",
    "\n",
    "print(\"Avståndet mellan punkt 1 och punkt 2 är\", avstånd, \"le\")"
   ]
  },
  {
   "cell_type": "code",
   "execution_count": 41,
   "metadata": {},
   "outputs": [
    {
     "output_type": "stream",
     "name": "stdout",
     "text": [
      "Avståndet mellan punkt 1 och 2 är 6 le\n"
     ]
    }
   ],
   "source": [
    "# Uppgift 3 b)\n",
    "import math\n",
    "\n",
    "def distance_formula(p1x,p1y,p2x,p2y):\n",
    "    p1 = [p1x,p1y]\n",
    "    p2 = [p2x,p2y]\n",
    "    avstånd = round(math.sqrt(((p1[0] - p2[0])**2) + ((p1[1] - p2[1])**2)))\n",
    "    return avstånd\n",
    "\n",
    "print(\"Avståndet mellan punkt 1 och 2 är\", distance_formula(3,4,-2,1), \"le\")"
   ]
  },
  {
   "cell_type": "code",
   "execution_count": 42,
   "metadata": {},
   "outputs": [
    {
     "output_type": "stream",
     "name": "stdout",
     "text": [
      "Avståndet mellan punkt 1 och 2 är 13 le\n"
     ]
    }
   ],
   "source": [
    "# Uppgift 3 c)\n",
    "\n",
    "import math\n",
    "\n",
    "def distance_formula(p1x,p1y,p2x,p2y):\n",
    "    p1 = [p1x,p1y]\n",
    "    p2 = [p2x,p2y]\n",
    "    avstånd = round(math.sqrt(((p1[0] - p2[0])**2) + ((p1[1] - p2[1])**2)))\n",
    "    return avstånd\n",
    "\n",
    "xp1 = int(input(\"Ange X-värdet för punkt 1: \"))\n",
    "yp1 = int(input(\"Ange Y-värdet för punkt 1: \"))\n",
    "xp2 = int(input(\"Ange X-värdet för punkt 2: \"))\n",
    "yp2 = int(input(\"Ange Y-värdet för punkt 2: \"))\n",
    "\n",
    "print(\"Avståndet mellan punkt 1 och 2 är\", distance_formula(xp1,yp1,xp2,yp2), \"le\")"
   ]
  },
  {
   "cell_type": "code",
   "execution_count": null,
   "metadata": {},
   "outputs": [],
   "source": []
  }
 ]
}