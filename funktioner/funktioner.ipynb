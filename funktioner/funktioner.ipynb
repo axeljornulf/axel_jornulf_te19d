{
 "metadata": {
  "language_info": {
   "codemirror_mode": {
    "name": "ipython",
    "version": 3
   },
   "file_extension": ".py",
   "mimetype": "text/x-python",
   "name": "python",
   "nbconvert_exporter": "python",
   "pygments_lexer": "ipython3",
   "version": "3.8.3-final"
  },
  "orig_nbformat": 2,
  "kernelspec": {
   "name": "python3",
   "display_name": "Python 3"
  }
 },
 "nbformat": 4,
 "nbformat_minor": 2,
 "cells": [
  {
   "cell_type": "code",
   "execution_count": 2,
   "metadata": {},
   "outputs": [
    {
     "output_type": "stream",
     "name": "stdout",
     "text": [
      "Hypotenusan för en rätvinklig triangel med kateterna 3 och 4 är 5.0\n"
     ]
    }
   ],
   "source": [
    "import math\n",
    "\n",
    "def Pythagoras_hypotenusa(katet1,katet2):\n",
    "    hypotenusa = math.sqrt(katet1**2 + katet2**2)\n",
    "    return hypotenusa\n",
    "\n",
    "c = Pythagoras_hypotenusa(3,4)\n",
    "\n",
    "print(\"Hypotenusan för en rätvinklig triangel med kateterna 3 och 4 är \" + str(c))"
   ]
  },
  {
   "cell_type": "code",
   "execution_count": null,
   "metadata": {},
   "outputs": [],
   "source": []
  }
 ]
}