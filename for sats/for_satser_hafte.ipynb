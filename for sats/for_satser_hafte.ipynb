{
 "metadata": {
  "language_info": {
   "codemirror_mode": {
    "name": "ipython",
    "version": 3
   },
   "file_extension": ".py",
   "mimetype": "text/x-python",
   "name": "python",
   "nbconvert_exporter": "python",
   "pygments_lexer": "ipython3",
   "version": "3.8.3-final"
  },
  "orig_nbformat": 2,
  "kernelspec": {
   "name": "python_defaultSpec_1600855081938",
   "display_name": "Python 3.8.3 64-bit ('base': conda)"
  }
 },
 "nbformat": 4,
 "nbformat_minor": 2,
 "cells": [
  {
   "cell_type": "code",
   "execution_count": 1,
   "metadata": {
    "tags": []
   },
   "outputs": [
    {
     "output_type": "stream",
     "name": "stdout",
     "text": "1 2 3 4 5 6 7 8 9 10"
    }
   ],
   "source": [
    "#Övning 1 a)\n",
    "\n",
    "for i in range(1,11):\n",
    "    print(i, end=\" \")"
   ]
  },
  {
   "cell_type": "code",
   "execution_count": 2,
   "metadata": {
    "tags": []
   },
   "outputs": [
    {
     "output_type": "stream",
     "name": "stdout",
     "text": "-10 -9 -8 -7 -6 -5 -4 -3 -2 -1 0 1 2 3 4 5 6 7 8 9 10"
    }
   ],
   "source": [
    "#Övning 1 b)\n",
    "\n",
    "for i in range(-10,11):\n",
    "    print(i, end=\" \")"
   ]
  },
  {
   "cell_type": "code",
   "execution_count": 14,
   "metadata": {
    "tags": []
   },
   "outputs": [
    {
     "output_type": "stream",
     "name": "stdout",
     "text": "10 9 8 7 6 5 4 3 2 1 0"
    }
   ],
   "source": [
    "#Övning 1 c)\n",
    "\n",
    "for i in range(0,11):\n",
    "    print(10-i, end=\" \")"
   ]
  },
  {
   "cell_type": "code",
   "execution_count": 10,
   "metadata": {
    "tags": []
   },
   "outputs": [
    {
     "output_type": "stream",
     "name": "stdout",
     "text": "2 3 5 7 11 13 17 19 23 29 31 37 41 43 47 53 59 61 67 71 73 79 83 89 97"
    }
   ],
   "source": [
    "#Övning 2\n",
    "\n",
    "for i in range(1,101):\n",
    "    if i > 1:   #Primtal som är större än 1\n",
    "        for j in range(2,i):    #En annan for loop mellan 2 och i loopen\n",
    "            if(i%j) == 0:   #All tal mellan 2 och \"i\" som blir över av division. Blir det 0 så stoppar loopen.\n",
    "                break\n",
    "        else:\n",
    "            print(i, end=\" \")"
   ]
  },
  {
   "cell_type": "code",
   "execution_count": 19,
   "metadata": {
    "tags": []
   },
   "outputs": [
    {
     "output_type": "stream",
     "name": "stdout",
     "text": "Summan av 1+2+3...+99+100 är 5050\n"
    }
   ],
   "source": [
    "#Övning 3\n",
    "\n",
    "s = 0\n",
    "for i in range(1,101):\n",
    "    s += i\n",
    "\n",
    "print(f\"Summan av 1+2+3...+99+100 är {s}\")"
   ]
  },
  {
   "cell_type": "code",
   "execution_count": 18,
   "metadata": {
    "tags": []
   },
   "outputs": [
    {
     "output_type": "stream",
     "name": "stdout",
     "text": "Summan av 1+3+5...+99 är 2500\n"
    }
   ],
   "source": [
    "#Övning 4\n",
    "\n",
    "s = 0\n",
    "for i in range(1,101,2):\n",
    "    s += i\n",
    "\n",
    "print(f\"Summan av 1+3+5...+99 är {s}\")\n"
   ]
  },
  {
   "cell_type": "code",
   "execution_count": 27,
   "metadata": {
    "tags": []
   },
   "outputs": [
    {
     "output_type": "stream",
     "name": "stdout",
     "text": "5 10 15 20 25 30 35 40 45 50"
    }
   ],
   "source": [
    "#Övning 5 a)\n",
    "\n",
    "s = 5\n",
    "\n",
    "for i in range(1,11):\n",
    "    print(s*i, end=\" \")"
   ]
  },
  {
   "cell_type": "code",
   "execution_count": 29,
   "metadata": {
    "tags": []
   },
   "outputs": [
    {
     "output_type": "stream",
     "name": "stdout",
     "text": "3 6 9 12 15 18 21 24 27 30"
    }
   ],
   "source": [
    "#Övning 5 b)\n",
    "\n",
    "num = int(input(\"Ange en faktor: \"))\n",
    "\n",
    "for i in range(1,11):\n",
    "    print(num*i, end=\" \")"
   ]
  },
  {
   "cell_type": "code",
   "execution_count": 50,
   "metadata": {
    "tags": []
   },
   "outputs": [
    {
     "output_type": "stream",
     "name": "stdout",
     "text": "1    1   1    1   1   1    1   1   1   1    1   1   1   1   1    1   1   1   1   1   1    1   1   1   1   1   1   1    1   1   1   1   1   1   1   1    1   1   1   1   1   1   1   1   1    1   1   1   1   1   1   1   1   1   1     2    2   2    2   2   2    2   2   2   2    2   2   2   2   2    2   2   2   2   2   2    2   2   2   2   2   2   2    2   2   2   2   2   2   2   2    2   2   2   2   2   2   2   2   2    2   2   2   2   2   2   2   2   2   2     3    3   3    3   3   3    3   3   3   3    3   3   3   3   3    3   3   3   3   3   3    3   3   3   3   3   3   3    3   3   3   3   3   3   3   3    3   3   3   3   3   3   3   3   3    3   3   3   3   3   3   3   3   3   3     4    4   4    4   4   4    4   4   4   4    4   4   4   4   4    4   4   4   4   4   4    4   4   4   4   4   4   4    4   4   4   4   4   4   4   4    4   4   4   4   4   4   4   4   4    4   4   4   4   4   4   4   4   4   4     5    5   5    5   5   5    5   5   5   5    5   5   5   5   5    5   5   5   5   5   5    5   5   5   5   5   5   5    5   5   5   5   5   5   5   5    5   5   5   5   5   5   5   5   5    5   5   5   5   5   5   5   5   5   5     6    6   6    6   6   6    6   6   6   6    6   6   6   6   6    6   6   6   6   6   6    6   6   6   6   6   6   6    6   6   6   6   6   6   6   6    6   6   6   6   6   6   6   6   6    6   6   6   6   6   6   6   6   6   6     7    7   7    7   7   7    7   7   7   7    7   7   7   7   7    7   7   7   7   7   7    7   7   7   7   7   7   7    7   7   7   7   7   7   7   7    7   7   7   7   7   7   7   7   7    7   7   7   7   7   7   7   7   7   7     8    8   8    8   8   8    8   8   8   8    8   8   8   8   8    8   8   8   8   8   8    8   8   8   8   8   8   8    8   8   8   8   8   8   8   8    8   8   8   8   8   8   8   8   8    8   8   8   8   8   8   8   8   8   8     9    9   9    9   9   9    9   9   9   9    9   9   9   9   9    9   9   9   9   9   9    9   9   9   9   9   9   9    9   9   9   9   9   9   9   9    9   9   9   9   9   9   9   9   9    9   9   9   9   9   9   9   9   9   9     10   10  10   10  10  10   10  10  10  10   10  10  10  10  10   10  10  10  10  10  10   10  10  10  10  10  10  10   10  10  10  10  10  10  10  10   10  10  10  10  10  10  10  10  10   10  10  10  10  10  10  10  10  10  10"
    }
   ],
   "source": [
    "#Övning 5 c)\n",
    "\n",
    "for i in range(1,11):\n",
    "    for j in range(0,11):\n",
    "        print(f\"{i : < 4}\", end=\" \")"
   ]
  },
  {
   "cell_type": "code",
   "execution_count": null,
   "metadata": {},
   "outputs": [],
   "source": []
  }
 ]
}