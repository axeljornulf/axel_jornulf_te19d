{
 "metadata": {
  "language_info": {
   "codemirror_mode": {
    "name": "ipython",
    "version": 3
   },
   "file_extension": ".py",
   "mimetype": "text/x-python",
   "name": "python",
   "nbconvert_exporter": "python",
   "pygments_lexer": "ipython3",
   "version": "3.8.3"
  },
  "orig_nbformat": 2,
  "kernelspec": {
   "name": "python383jvsc74a57bd068baef9b14bcf39f9d26db8e9f8d6f62893a325e07f78abc1611be81daff26f8",
   "display_name": "Python 3.8.3 64-bit (conda)"
  }
 },
 "nbformat": 4,
 "nbformat_minor": 2,
 "cells": [
  {
   "source": [
    "# DETTA ÄR BARA EN TEST FIL"
   ],
   "cell_type": "markdown",
   "metadata": {}
  },
  {
   "cell_type": "code",
   "execution_count": 18,
   "metadata": {},
   "outputs": [
    {
     "output_type": "stream",
     "name": "stdout",
     "text": [
      "[319641]\n"
     ]
    }
   ],
   "source": [
    "import pandas as pd\n",
    "import matplotlib.pyplot as plt\n",
    "\n",
    "gender = []\n",
    "\n",
    "lbl = \"Smittade \\nMän\", \"Män i \\nintensivvård\", \"Smittade \\nKvinnor\", \"Kvinnor i \\nintensivvård\"\n",
    "\n",
    "df = pd.read_csv('Gender_Data.csv')\n",
    "#mänSmittad = df['Total_Cases'].iloc[0:1].sum()\n",
    "#mänIntensivvård = df.loc['Male', 'Total_ICU_Admission']\n",
    "    \n",
    "kvinnorSmittad = df['Total_Cases'].iloc[1:2].sum()\n",
    "#kvinnorIntensivvård = df.loc['Female', 'Total_ICU_Admission'].sum()\n",
    "\n",
    "#gender.append(mänSmittad)\n",
    "#gender.append(mänIntensivvård)\n",
    "gender.append(kvinnorSmittad)\n",
    "#gender.append(kvinnorIntensivvård)\n",
    "\n",
    "#plt.bar(lbl, gender, width=.4, color=[\"blue\", \"indigo\", \"red\", \"pink\"])\n",
    "#plt.title(\"COVID-19 fall mellan kön + Intesivvård\")\n",
    "#plt.show()\n",
    "\n",
    "print(gender)"
   ]
  },
  {
   "cell_type": "code",
   "execution_count": null,
   "metadata": {},
   "outputs": [],
   "source": []
  }
 ]
}