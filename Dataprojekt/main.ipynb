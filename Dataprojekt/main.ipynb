{
 "metadata": {
  "language_info": {
   "codemirror_mode": {
    "name": "ipython",
    "version": 3
   },
   "file_extension": ".py",
   "mimetype": "text/x-python",
   "name": "python",
   "nbconvert_exporter": "python",
   "pygments_lexer": "ipython3",
   "version": "3.8.3-final"
  },
  "orig_nbformat": 2,
  "kernelspec": {
   "name": "python383jvsc74a57bd02b94ce622b12296cd06d8b15708673b3418dcdf4211bc2885f010613abb76548",
   "display_name": "Python 3.8.3 64-bit (conda)"
  }
 },
 "nbformat": 4,
 "nbformat_minor": 2,
 "cells": [
  {
   "cell_type": "code",
   "execution_count": 1,
   "metadata": {},
   "outputs": [
    {
     "output_type": "execute_result",
     "data": {
      "text/plain": [
       "           Date  National_Daily_Deaths\n",
       "0    2020-03-11                      1\n",
       "1    2020-03-12                      0\n",
       "2    2020-03-13                      1\n",
       "3    2020-03-14                      1\n",
       "4    2020-03-15                      2\n",
       "..          ...                    ...\n",
       "333  2021-02-07                     16\n",
       "334  2021-02-08                     14\n",
       "335  2021-02-09                      5\n",
       "336  2021-02-10                      3\n",
       "337  2021-02-11                      1\n",
       "\n",
       "[338 rows x 2 columns]"
      ],
      "text/html": "<div>\n<style scoped>\n    .dataframe tbody tr th:only-of-type {\n        vertical-align: middle;\n    }\n\n    .dataframe tbody tr th {\n        vertical-align: top;\n    }\n\n    .dataframe thead th {\n        text-align: right;\n    }\n</style>\n<table border=\"1\" class=\"dataframe\">\n  <thead>\n    <tr style=\"text-align: right;\">\n      <th></th>\n      <th>Date</th>\n      <th>National_Daily_Deaths</th>\n    </tr>\n  </thead>\n  <tbody>\n    <tr>\n      <th>0</th>\n      <td>2020-03-11</td>\n      <td>1</td>\n    </tr>\n    <tr>\n      <th>1</th>\n      <td>2020-03-12</td>\n      <td>0</td>\n    </tr>\n    <tr>\n      <th>2</th>\n      <td>2020-03-13</td>\n      <td>1</td>\n    </tr>\n    <tr>\n      <th>3</th>\n      <td>2020-03-14</td>\n      <td>1</td>\n    </tr>\n    <tr>\n      <th>4</th>\n      <td>2020-03-15</td>\n      <td>2</td>\n    </tr>\n    <tr>\n      <th>...</th>\n      <td>...</td>\n      <td>...</td>\n    </tr>\n    <tr>\n      <th>333</th>\n      <td>2021-02-07</td>\n      <td>16</td>\n    </tr>\n    <tr>\n      <th>334</th>\n      <td>2021-02-08</td>\n      <td>14</td>\n    </tr>\n    <tr>\n      <th>335</th>\n      <td>2021-02-09</td>\n      <td>5</td>\n    </tr>\n    <tr>\n      <th>336</th>\n      <td>2021-02-10</td>\n      <td>3</td>\n    </tr>\n    <tr>\n      <th>337</th>\n      <td>2021-02-11</td>\n      <td>1</td>\n    </tr>\n  </tbody>\n</table>\n<p>338 rows × 2 columns</p>\n</div>"
     },
     "metadata": {},
     "execution_count": 1
    }
   ],
   "source": [
    "import pandas as pd\n",
    "import numpy as np\n",
    "import matplotlib.pyplot as plt\n",
    "\n",
    "gender = []\n",
    "ålder = []\n",
    "ndd = []\n",
    "rdc = []\n",
    "\n",
    "def validate_choice(output, msg):\n",
    "    while True:\n",
    "        try:\n",
    "            value = int(input(output))\n",
    "            break\n",
    "        except:\n",
    "            print(msg)\n",
    "    return value\n",
    "\n",
    "def choice_1():\n",
    "\n",
    "    lbl = \"Smittade \\nMän\", \"Män i \\nintensivvård\", \"Smittade \\nKvinnor\", \"Kvinnor i \\nintensivvård\"\n",
    "\n",
    "    df = pd.read_csv('Gender_Data.csv')\n",
    "    mänSmittad = df['Total_Cases'].iloc[0:1].sum()\n",
    "    mänIntensivvård = df['Total_ICU_Admission'].iloc[0:1].sum()\n",
    "    \n",
    "    kvinnorSmittad = df['Total_Cases'].iloc[1:2].sum()\n",
    "    kvinnorIntensivvård = df['Total_ICU_Admission'].iloc[1:2].sum()\n",
    "\n",
    "    gender.append(mänSmittad)\n",
    "    gender.append(mänIntensivvård)\n",
    "    gender.append(kvinnorSmittad)\n",
    "    gender.append(kvinnorIntensivvård)\n",
    "\n",
    "    plt.bar(lbl, gender, width=.4, color=[\"blue\", \"indigo\", \"red\", \"pink\"])\n",
    "    plt.title(\"COVID-19 fall mellan kön + Intesivvård\")\n",
    "    plt.show()\n",
    "\n",
    "    ask = (\"Vill du \")\n",
    "\n",
    "\n",
    "while True:\n",
    "    mainMenu = (\"\\n=========================\"\n",
    "                \"\\n-   COVID-19 STATISTIK  -\"\n",
    "                \"\\n-  Välkommen till menyn -\"\n",
    "                \"\\n=========================\"\n",
    "                \"\\n\\n1 - Gemför kön\"\n",
    "                \"\\n2 - National dödsräkning\"\n",
    "                \"\\n3 - Daglig smittning\"\n",
    "                \"\\nExit. (0)\"\n",
    ")\n",
    "\n",
    "val = validate_choice(mainMenu, \"Felaktig val.\")\n",
    "\n",
    "if val == 0:\n",
    "    break\n",
    "\n",
    "elif val == 1:\n",
    "    \n",
    "\n"
   ]
  },
  {
   "cell_type": "code",
   "execution_count": null,
   "metadata": {},
   "outputs": [],
   "source": []
  }
 ]
}