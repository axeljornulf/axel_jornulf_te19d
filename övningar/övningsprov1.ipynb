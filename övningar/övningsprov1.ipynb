{
 "metadata": {
  "language_info": {
   "codemirror_mode": {
    "name": "ipython",
    "version": 3
   },
   "file_extension": ".py",
   "mimetype": "text/x-python",
   "name": "python",
   "nbconvert_exporter": "python",
   "pygments_lexer": "ipython3",
   "version": "3.8.3-final"
  },
  "orig_nbformat": 2,
  "kernelspec": {
   "name": "python3",
   "display_name": "Python 3",
   "language": "python"
  }
 },
 "nbformat": 4,
 "nbformat_minor": 2,
 "cells": [
  {
   "cell_type": "code",
   "execution_count": 20,
   "metadata": {},
   "outputs": [
    {
     "output_type": "stream",
     "name": "stdout",
     "text": [
      "Andelen femmor av 34895 totala tärnings värde är 0.05.\n"
     ]
    }
   ],
   "source": [
    "import random as rnd\n",
    "\n",
    "antal = 0\n",
    "dice_antal = 0\n",
    "\n",
    "for i in range(1,10000):\n",
    "    dice = rnd.randint(1,6)\n",
    "    dice_antal += dice\n",
    "    if dice == 5:\n",
    "        antal += 1\n",
    "        continue\n",
    "\n",
    "print(f\"Andelen femmor av {dice_antal} totala tärnings värde är {round(antal/dice_antal,2)}.\")"
   ]
  },
  {
   "source": [
    "def multiplicationtable(num,num2):\n",
    "    for i in range(1,num2):\n",
    "        print(f\"{num} x {i} = {num*i}\")\n",
    "\n",
    "while True:\n",
    "    input1 = int(input(\"Ange faktor talet: \"))\n",
    "    input2 = int(input(\"Ange sluttal för tabellen: \"))\n",
    "    \n",
    "    multiplicationtable(input1,input2)\n",
    "\n",
    "    ask = input(\"Vill du fortsätta?\")\n",
    "\n",
    "    if ask == \"y\" or ask == \"Y\":\n",
    "        continue\n",
    "    elif ask == \"n\" or ask == \"N\":\n",
    "        print(\"Ha en trevlig dag.\")\n",
    "        break\n"
   ],
   "cell_type": "code",
   "metadata": {
    "tags": []
   },
   "execution_count": 28,
   "outputs": [
    {
     "output_type": "stream",
     "name": "stdout",
     "text": [
      "12 x 1 = 12\n",
      "12 x 2 = 24\n",
      "12 x 3 = 36\n",
      "12 x 4 = 48\n",
      "12 x 5 = 60\n",
      "12 x 6 = 72\n",
      "12 x 7 = 84\n",
      "12 x 8 = 96\n",
      "12 x 9 = 108\n",
      "12 x 10 = 120\n",
      "12 x 11 = 132\n",
      "12 x 12 = 144\n",
      "12 x 13 = 156\n",
      "12 x 14 = 168\n",
      "12 x 15 = 180\n",
      "12 x 16 = 192\n",
      "12 x 17 = 204\n",
      "12 x 18 = 216\n",
      "12 x 19 = 228\n",
      "Ha en trevlig dag.\n"
     ]
    }
   ]
  },
  {
   "cell_type": "code",
   "execution_count": 8,
   "metadata": {
    "tags": []
   },
   "outputs": [
    {
     "output_type": "stream",
     "name": "stdout",
     "text": [
      "Din inmatning är 7848 kr\n\n1000 kr\n1000 kr\n1000 kr\n1000 kr\n1000 kr\n1000 kr\n1000 kr\n500 kr\n200 kr\n100 kr\n20 kr\n20 kr\n5 kr\n2 kr\n1 kr\n"
     ]
    }
   ],
   "source": [
    "def banknotes(v):\n",
    "    pengar = [1000,500,200,100,50,20,10,5,2,1]\n",
    "    for i in pengar:\n",
    "        calc = 0\n",
    "        if i <= v:\n",
    "            amount,v = divmod(v,i)\n",
    "            while calc < amount:\n",
    "                print(str(i), \"kr\")\n",
    "                calc += 1\n",
    "v = int(input(\"Ange antal pengar (kr): \"))\n",
    "print(f\"Din inmatning är {v} kr\")\n",
    "print()\n",
    "banknotes(v)"
   ]
  },
  {
   "cell_type": "code",
   "execution_count": 9,
   "metadata": {},
   "outputs": [
    {
     "output_type": "stream",
     "name": "stdout",
     "text": [
      "6 tusenlappar, 0 femhundralappar, 1 tvåhundralappar, 1 hundralappar, 1 femtiolappar, 1 tjugolappar, 0 tiokronor, 1 femkronor, 4 enkronor, "
     ]
    }
   ],
   "source": [
    "def växla(summa):\n",
    "    kontanter = [1000,500,200,100,50,20,10,5,1]\n",
    "    sedlar = [\"tusenlappar\", \"femhundralappar\", \"tvåhundralappar\", \"hundralappar\", \"femtiolappar\", \"tjugolappar\", \"tiokronor\", \"femkronor\", \"enkronor\"]\n",
    "\n",
    "    for i in range(len(kontanter)):\n",
    "        antal = summa//kontanter[i]\n",
    "        summa %= kontanter[i]\n",
    "        print(f\"{antal} {sedlar[i]}\", end=\", \")\n",
    "\n",
    "växla(6379)"
   ]
  },
  {
   "cell_type": "code",
   "execution_count": 1,
   "metadata": {},
   "outputs": [
    {
     "output_type": "stream",
     "name": "stdout",
     "text": [
      "                    1 \n\n                  1 2 1 \n\n                1 2 3 2 1 \n\n              1 2 3 4 3 2 1 \n\n            1 2 3 4 5 4 3 2 1 \n\n          1 2 3 4 5 6 5 4 3 2 1 \n\n        1 2 3 4 5 6 7 6 5 4 3 2 1 \n\n      1 2 3 4 5 6 7 8 7 6 5 4 3 2 1 \n\n    1 2 3 4 5 6 7 8 9 8 7 6 5 4 3 2 1 \n\n  1 2 3 4 5 6 7 8 9 10 9 8 7 6 5 4 3 2 1 \n\n"
     ]
    }
   ],
   "source": [
    "for i in range(1,11):\n",
    "    for j in range(11 - i):\n",
    "        print(\" \",end=\" \")\n",
    "    for j in range(1,i):\n",
    "        print(j,end=\" \")\n",
    "    for i in range(i, 0, -1):\n",
    "        print(i, end=\" \")\n",
    "\n",
    "    print(\"\\n\")"
   ]
  },
  {
   "cell_type": "code",
   "execution_count": null,
   "metadata": {},
   "outputs": [],
   "source": []
  }
 ]
}