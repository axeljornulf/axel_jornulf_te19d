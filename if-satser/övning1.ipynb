{
 "metadata": {
  "language_info": {
   "codemirror_mode": {
    "name": "ipython",
    "version": 3
   },
   "file_extension": ".py",
   "mimetype": "text/x-python",
   "name": "python",
   "nbconvert_exporter": "python",
   "pygments_lexer": "ipython3",
   "version": "3.8.3-final"
  },
  "orig_nbformat": 2,
  "kernelspec": {
   "name": "python_defaultSpec_1600072028855",
   "display_name": "Python 3.8.3 64-bit ('base': conda)"
  }
 },
 "nbformat": 4,
 "nbformat_minor": 2,
 "cells": [
  {
   "cell_type": "code",
   "execution_count": 4,
   "metadata": {
    "tags": []
   },
   "outputs": [
    {
     "output_type": "stream",
     "name": "stdout",
     "text": "Talet är 0.\n"
    }
   ],
   "source": [
    "#Övning 1\n",
    "tal = float(input(\"Skriv in en positiv eller negativ tal:\"))\n",
    "\n",
    "if tal < 0:\n",
    "    print(\"Talet är negativt.\")\n",
    "\n",
    "elif tal > 0:\n",
    "    print(\"Talet är positivt.\")\n",
    "\n",
    "else:\n",
    "    print(\"Talet är 0.\")"
   ]
  },
  {
   "cell_type": "code",
   "execution_count": 8,
   "metadata": {
    "tags": []
   },
   "outputs": [
    {
     "output_type": "stream",
     "name": "stdout",
     "text": "Talet är udda.\n"
    }
   ],
   "source": [
    "#Övning 2\n",
    "tal = float(input(\"Skriv in en positiv heltal:\"))\n",
    "\n",
    "if tal%2 == 0:\n",
    "    print(\"Talet är jämt.\")\n",
    "\n",
    "elif tal%5 == 0:\n",
    "    print(\"Talet är delbar med 5.\")\n",
    "\n",
    "else:\n",
    "    print(\"Talet är udda.\")"
   ]
  },
  {
   "cell_type": "code",
   "execution_count": 11,
   "metadata": {
    "tags": []
   },
   "outputs": [
    {
     "output_type": "stream",
     "name": "stdout",
     "text": "Det största talet är 11.0\n"
    }
   ],
   "source": [
    "#Övning 3\n",
    "\n",
    "tal1 = float(input(\"Skriv in tal 1:\"))\n",
    "tal2 = float(input(\"Skriv in tal 2:\"))\n",
    "tal3 = float(input(\"Skriv in tal 3:\"))\n",
    "tal4 = float(input(\"Skriv in tal 4:\"))\n",
    "\n",
    "if tal1 > tal2 and tal1 > tal3 and tal1 > tal4:\n",
    "    print(f\"Det största talet är {tal1}\")\n",
    "\n",
    "elif tal2 > tal1 and tal2 > tal3 and tal2 > tal4:\n",
    "    print(f\"Det största talet är {tal2}\")\n",
    "\n",
    "elif tal3 > tal1 and tal3 > tal2 and tal3 > tal4:\n",
    "    print(f\"Det största talet är {tal3}\")\n",
    "\n",
    "else:\n",
    "    print(f\"Det största talet är {tal4}\")"
   ]
  },
  {
   "cell_type": "code",
   "execution_count": 18,
   "metadata": {
    "tags": []
   },
   "outputs": [
    {
     "output_type": "stream",
     "name": "stdout",
     "text": "Vinkeln är konvex.\n"
    }
   ],
   "source": [
    "#Övning 4\n",
    "\n",
    "v = float(input(\"Skriv in en vinkelgrad som är >= 0 eller <= 360:\"))\n",
    "\n",
    "if v < 90 and v > 0:\n",
    "    print(\"Vinkeln är spetsig.\")\n",
    "\n",
    "elif v == 90:\n",
    "    print(\"Vinkeln är rät.\")\n",
    "\n",
    "elif v > 90 and v < 180:\n",
    "    print(\"Vinkeln är trubbig\")\n",
    "\n",
    "elif v == 180:\n",
    "    print(\"Vinkeln är rak.\")\n",
    "\n",
    "elif v > 180 and v < 360:\n",
    "    print(\"Vinkeln är konvex.\")\n",
    "\n",
    "elif v == 360:\n",
    "    print(\"Vinkeln är hel.\")\n",
    "\n",
    "else:\n",
    "    print(\"Ange ett tal som är större 360 eller mindre än 0!\")"
   ]
  },
  {
   "cell_type": "code",
   "execution_count": null,
   "metadata": {},
   "outputs": [],
   "source": []
  }
 ]
}