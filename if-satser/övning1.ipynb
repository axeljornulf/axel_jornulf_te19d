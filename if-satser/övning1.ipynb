{
 "metadata": {
  "language_info": {
   "codemirror_mode": {
    "name": "ipython",
    "version": 3
   },
   "file_extension": ".py",
   "mimetype": "text/x-python",
   "name": "python",
   "nbconvert_exporter": "python",
   "pygments_lexer": "ipython3",
   "version": "3.8.3-final"
  },
  "orig_nbformat": 2,
  "kernelspec": {
   "name": "python_defaultSpec_1600420129372",
   "display_name": "Python 3.8.3 64-bit ('base': conda)"
  }
 },
 "nbformat": 4,
 "nbformat_minor": 2,
 "cells": [
  {
   "cell_type": "code",
   "execution_count": 4,
   "metadata": {
    "tags": []
   },
   "outputs": [
    {
     "output_type": "stream",
     "name": "stdout",
     "text": "Talet är 0.\n"
    }
   ],
   "source": [
    "#Övning 1\n",
    "tal = float(input(\"Skriv in en positiv eller negativ tal:\"))\n",
    "\n",
    "if tal < 0:\n",
    "    print(\"Talet är negativt.\")\n",
    "\n",
    "elif tal > 0:\n",
    "    print(\"Talet är positivt.\")\n",
    "\n",
    "else:\n",
    "    print(\"Talet är 0.\")"
   ]
  },
  {
   "cell_type": "code",
   "execution_count": 8,
   "metadata": {
    "tags": []
   },
   "outputs": [
    {
     "output_type": "stream",
     "name": "stdout",
     "text": "Talet är udda.\n"
    }
   ],
   "source": [
    "#Övning 2\n",
    "tal = float(input(\"Skriv in en positiv heltal:\"))\n",
    "\n",
    "if tal%2 == 0:\n",
    "    print(\"Talet är jämt.\")\n",
    "\n",
    "elif tal%5 == 0:\n",
    "    print(\"Talet är delbar med 5.\")\n",
    "\n",
    "else:\n",
    "    print(\"Talet är udda.\")"
   ]
  },
  {
   "cell_type": "code",
   "execution_count": 42,
   "metadata": {
    "tags": []
   },
   "outputs": [
    {
     "output_type": "stream",
     "name": "stdout",
     "text": "Det största talet är 12.0\n"
    }
   ],
   "source": [
    "#Övning 3\n",
    "\n",
    "tal1 = float(input(\"Skriv in tal 1:\"))\n",
    "tal2 = float(input(\"Skriv in tal 2:\"))\n",
    "\n",
    "if tal1 > tal2:\n",
    "    print(f\"Det största talet är {tal1}\")\n",
    "    \n",
    "else:\n",
    "    print(f\"Det största talet är {tal2}\")"
   ]
  },
  {
   "cell_type": "code",
   "execution_count": 18,
   "metadata": {
    "tags": []
   },
   "outputs": [
    {
     "output_type": "stream",
     "name": "stdout",
     "text": "Vinkeln är konvex.\n"
    }
   ],
   "source": [
    "#Övning 4\n",
    "\n",
    "v = float(input(\"Skriv in en vinkelgrad som är >= 0 eller <= 360:\"))\n",
    "\n",
    "if v < 90 and v > 0:\n",
    "    print(\"Vinkeln är spetsig.\")\n",
    "\n",
    "elif v == 90:\n",
    "    print(\"Vinkeln är rät.\")\n",
    "\n",
    "elif v > 90 and v < 180:\n",
    "    print(\"Vinkeln är trubbig\")\n",
    "\n",
    "elif v == 180:\n",
    "    print(\"Vinkeln är rak.\")\n",
    "\n",
    "elif v > 180 and v < 360:\n",
    "    print(\"Vinkeln är konvex.\")\n",
    "\n",
    "elif v == 360:\n",
    "    print(\"Vinkeln är hel.\")\n",
    "\n",
    "else:\n",
    "    print(\"Ange ett tal som är större 360 eller mindre än 0!\")"
   ]
  },
  {
   "cell_type": "code",
   "execution_count": 27,
   "metadata": {
    "tags": []
   },
   "outputs": [
    {
     "output_type": "stream",
     "name": "stdout",
     "text": "Arean är: 254.46900494077323 a.e.\nOmkretsen är 56.548667764616276.\n"
    }
   ],
   "source": [
    "# Övning 5\n",
    "\n",
    "import math\n",
    "\n",
    "pi = math.pi\n",
    "r = float(input(\"Skriv in en positiv radie:\"))\n",
    "\n",
    "if r > 0:\n",
    "    o = r*2*pi\n",
    "    a = r**2*pi\n",
    "\n",
    "    print(f\"Arean är: {a} a.e.\")\n",
    "    print(f\"Omkretsen är {o}.\")\n",
    "\n",
    "elif r < 0:\n",
    "    print(\"Skriv in ett positivt tal!\")"
   ]
  },
  {
   "cell_type": "code",
   "execution_count": 40,
   "metadata": {
    "tags": []
   },
   "outputs": [
    {
     "output_type": "stream",
     "name": "stdout",
     "text": "Triangeln är inte rät, men liksidig.\n"
    }
   ],
   "source": [
    "# Övning 6\n",
    "\n",
    "beta = float(input(\"Skriv in vinkel 1:\"))\n",
    "alpha = float(input(\"Skriv in vinkel 2:\"))\n",
    "gamma = float(input(\"Skriv in vinkel 3:\"))\n",
    "\n",
    "if alpha == 90 or beta == 90 or gamma == 90:\n",
    "    print(\"Triangeln är rät.\")\n",
    "\n",
    "elif alpha == beta == gamma:\n",
    "    print(\"Triangeln är inte rät, men liksidig.\")\n",
    "\n",
    "else:\n",
    "    print(\"Triangeln är inte rät!\")"
   ]
  },
  {
   "cell_type": "code",
   "execution_count": 49,
   "metadata": {
    "tags": []
   },
   "outputs": [
    {
     "output_type": "stream",
     "name": "stdout",
     "text": "Koordinaten sitter i kvadrant 3\n"
    }
   ],
   "source": [
    "# Övning 7\n",
    "\n",
    "x = int(input(\"Skriv in en X värde:\"))\n",
    "y = int(input(\"Skriv in ett Y värde:\"))\n",
    "\n",
    "axleX = 0\n",
    "axleY = 0\n",
    "\n",
    "if x > axleX and y > axleY:\n",
    "    print(\"Koordinaten sitter i kvadrant 1\")\n",
    "\n",
    "elif x < axleX and y > axleY:\n",
    "    print(\"Koordinaten sitter i kvadrant 2\")\n",
    "\n",
    "elif x > axleX and y < axleY:\n",
    "    print(\"Koordinaten sitter i kvadrant 4\")\n",
    "\n",
    "elif x < axleX and y < axleY:\n",
    "    print(\"Koordinaten sitter i kvadrant 3\")"
   ]
  },
  {
   "cell_type": "code",
   "execution_count": 4,
   "metadata": {
    "tags": []
   },
   "outputs": [
    {
     "output_type": "stream",
     "name": "stdout",
     "text": "Bagaget är ej godkänd; för tung.\n"
    }
   ],
   "source": [
    "# Övning 8\n",
    "\n",
    "v = float(input(\"Skriv in bagagets vikt:\"))\n",
    "l = float(input(\"Skriv in bagagets längd:\"))\n",
    "b = float(input(\"Skriv in bagagets bredd:\"))\n",
    "h = float(input(\"Skriv in bagagets höjd:\"))\n",
    "\n",
    "if v > 88:\n",
    "    print(\"Bagaget är ej godkänd; för tung.\")\n",
    "\n",
    "elif v <= 88 and l <= 55 and b <= 40 and h <= 23:\n",
    "    print(\"Bagaget är godkänd.\")\n",
    "\n",
    "elif v <= 88 and l > 55 and b <= 40 and h <= 23:\n",
    "    print(\"Bageget är ej godkänd; max dimension överskridits.\")\n",
    "\n",
    "elif v <= 88 and l <= 55 and b > 40 and h <= 23:\n",
    "    print(\"Bageget är ej godkänd; max dimension överskridits.\")\n",
    "\n",
    "elif v <= 88 and l <= 55 and b <= 40 and h > 23:\n",
    "    print(\"Bageget är ej godkänd; max dimension överskridits.\")\n",
    "\n",
    "else:\n",
    "    print(\"Skriv in ett positiv tal!\")"
   ]
  },
  {
   "cell_type": "code",
   "execution_count": 7,
   "metadata": {
    "tags": []
   },
   "outputs": [
    {
     "output_type": "stream",
     "name": "stdout",
     "text": "Absolut beloppet -4 är 4\n"
    }
   ],
   "source": [
    "# Övning 9\n",
    "\n",
    "import math\n",
    "\n",
    "x = int(input(\"Skriv in ett tal:\"))\n",
    "\n",
    "if x >= 0:\n",
    "    abX = abs(x)\n",
    "    print(f\"Absolut beloppet av {x} är {abX}\")\n",
    "\n",
    "elif x < 0:\n",
    "    abX = abs(x)\n",
    "    print(f\"Absolut beloppet av {x} är {abX}\")"
   ]
  },
  {
   "cell_type": "code",
   "execution_count": 9,
   "metadata": {
    "tags": []
   },
   "outputs": [
    {
     "output_type": "stream",
     "name": "stdout",
     "text": "Lösningarna för ekvationen är -1.0 och 2.0.\n"
    }
   ],
   "source": [
    "#Övning 10\n",
    "\n",
    "#funktionen f(x) = ax^2 + bx + c där f(x) = 0\n",
    "\n",
    "#a)\n",
    "\n",
    "import math\n",
    "\n",
    "a = 1\n",
    "b = -1\n",
    "c = -2\n",
    "\n",
    "#diskriminanten/pq-formel\n",
    "d = (b**2) - (4*a*c)\n",
    "\n",
    "x1 = (-b - math.sqrt(d))/(2*a)\n",
    "x2 = (-b + math.sqrt(d))/(2*a)\n",
    "\n",
    "print(f\"Lösningarna för ekvationen är {x1} och {x2}.\")"
   ]
  },
  {
   "cell_type": "code",
   "execution_count": null,
   "metadata": {},
   "outputs": [],
   "source": [
    "#Övning 10\n",
    "\n",
    "#b)\n",
    "\n",
    "import math\n",
    "\n",
    "a = float(input(\"Ange ett tal för a:\"))\n",
    "b = float(input(\"Ange ett tal för b:\"))\n",
    "c = float(input(\"Ange ett tal för c:\"))\n",
    "\n",
    "d = (b**2) - (4*a*c)\n",
    "\n",
    "if(d < 0):\n",
    "    print(\"Ekvationen saknar reella lösningar.\")\n",
    "\n",
    "elif(d == 0):\n",
    "    x = (-b + math.sqrt(d))/(2*a)\n",
    "\n",
    "    print(\"Ekvationen har 1 lösning: \", x)\n",
    "\n",
    "else:\n",
    "    x1 = (-b - math.sqrt(d))/(2*a)\n",
    "    x2 = (-b + math.sqrt(d))/(2*a)\n",
    "    \n",
    "    print(f\"Ekvationen har 2 lösningar: x1 = {x1} och x2 = {x2}.\")\n",
    "\n",
    "# Svar: När diskriminanten blir mindre än 0, blir det inga reella lösningar. D.v.s. om d är ett negativt tal, då kan den inte bli kvadrerad. Däremot, om talet är 0, går det att hitta 1 lösning, genom att addera roten ur 0. När det blir två lösningar, så är det självfallet när diskriminanten inte får 0 eller ett negativt tal som lösning."
   ]
  }
 ]
}