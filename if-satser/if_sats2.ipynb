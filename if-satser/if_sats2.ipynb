{
 "metadata": {
  "language_info": {
   "codemirror_mode": {
    "name": "ipython",
    "version": 3
   },
   "file_extension": ".py",
   "mimetype": "text/x-python",
   "name": "python",
   "nbconvert_exporter": "python",
   "pygments_lexer": "ipython3",
   "version": "3.8.3-final"
  },
  "orig_nbformat": 2,
  "kernelspec": {
   "name": "python_defaultSpec_1600853075180",
   "display_name": "Python 3.8.3 64-bit ('base': conda)"
  }
 },
 "nbformat": 4,
 "nbformat_minor": 2,
 "cells": [
  {
   "source": [
    "import random as rmd\n",
    "#slumpar heltal\n",
    "p = rmd.randint(0,65)\n",
    "\n",
    "#lista\n",
    "klass = [\"Kokchun\", \"Henrkik\", \"Tommy\", \"Zsofia\"]\n",
    "\n",
    "if(p > 60):\n",
    "    betyg = \"A\"\n",
    "\n",
    "elif(p >= 56):\n",
    "    betyg = \"B\"\n",
    "\n",
    "elif(p >= 51):\n",
    "    betyg = \"C\"\n",
    "\n",
    "elif(p >= 41):\n",
    "    betyg = \"D\"\n",
    "\n",
    "elif(p >= 31):\n",
    "    betyg = \"E\"\n",
    "\n",
    "else:\n",
    "    betyg = \"F\"\n",
    "\n",
    "#slumpvis ett element i listan klass\n",
    "elev = rmd.choice(klass)\n",
    "\n",
    "print(f\"Eleven {elev} fick {p} poäng vilket ger betyget {betyg}.\")"
   ],
   "cell_type": "code",
   "metadata": {
    "tags": []
   },
   "execution_count": 18,
   "outputs": [
    {
     "output_type": "stream",
     "name": "stdout",
     "text": "Eleven Tommy fick 58 poäng vilket ger betyget B.\n"
    }
   ]
  },
  {
   "cell_type": "code",
   "execution_count": 1,
   "metadata": {
    "tags": []
   },
   "outputs": [
    {
     "output_type": "stream",
     "name": "stdout",
     "text": "Eleven Kokchun fick 58 poäng vilket ger betyget B.\nEleven Henrik fick 22 poäng vilket ger betyget F.\nEleven Tommy fick 30 poäng vilket ger betyget F.\nEleven Zsofia fick 63 poäng vilket ger betyget A.\n"
    }
   ],
   "source": [
    "#for loop övning\n",
    "\n",
    "import random as rmd\n",
    "\n",
    "#lista\n",
    "klass = [\"Kokchun\", \"Henrik\", \"Tommy\", \"Zsofia\"]\n",
    "\n",
    "for i in klass:\n",
    "\n",
    "    p = rmd.randint(0,65)\n",
    "\n",
    "    if(p > 60):\n",
    "        betyg = \"A\"\n",
    "        \n",
    "    elif(p >= 56):\n",
    "        betyg = \"B\"\n",
    "        \n",
    "    elif(p >= 51):\n",
    "        betyg = \"C\"\n",
    "        \n",
    "    elif(p >= 41):\n",
    "        betyg = \"D\"\n",
    "        \n",
    "    elif(p >= 31):\n",
    "        betyg = \"E\"\n",
    "        \n",
    "    else:\n",
    "        betyg = \"F\"\n",
    "\n",
    "    print(f\"Eleven {i} fick {p} poäng vilket ger betyget {betyg}.\")"
   ]
  },
  {
   "cell_type": "code",
   "execution_count": null,
   "metadata": {},
   "outputs": [],
   "source": []
  }
 ]
}