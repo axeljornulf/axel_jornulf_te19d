{
 "metadata": {
  "language_info": {
   "codemirror_mode": {
    "name": "ipython",
    "version": 3
   },
   "file_extension": ".py",
   "mimetype": "text/x-python",
   "name": "python",
   "nbconvert_exporter": "python",
   "pygments_lexer": "ipython3",
   "version": "3.8.3-final"
  },
  "orig_nbformat": 2,
  "kernelspec": {
   "name": "python_defaultSpec_1600071158598",
   "display_name": "Python 3.8.3 64-bit ('base': conda)"
  }
 },
 "nbformat": 4,
 "nbformat_minor": 2,
 "cells": [
  {
   "cell_type": "code",
   "execution_count": 3,
   "metadata": {
    "tags": []
   },
   "outputs": [
    {
     "output_type": "stream",
     "name": "stdout",
     "text": "Talet är udda.\n"
    }
   ],
   "source": [
    "tal = int(input(\"Ange ett heltal\"))\n",
    "\n",
    "if tal == 0:\n",
    "    print(\"Talet är jämnt.\")\n",
    "else:\n",
    "    print(\"Talet är udda.\")"
   ]
  },
  {
   "cell_type": "code",
   "execution_count": 6,
   "metadata": {
    "tags": []
   },
   "outputs": [
    {
     "output_type": "stream",
     "name": "stdout",
     "text": "Spetsig vinkel.\n"
    }
   ],
   "source": [
    "vinkel = float(input(\"Ange en vinkel 'v' i grader, där 0 <= 'v' <= 360:\"))\n",
    "\n",
    "#vinkel 0 < vinkel < 90 vinkel är spetsig\n",
    "#v = 90 är spetsig\n",
    "#90 < v < 180 är trubbig vinkel\n",
    "\n",
    "if vinkel <= 90 and vinkel > 0:\n",
    "    print(\"Spetsig vinkel.\")\n",
    "\n",
    "elif vinkel == 90:\n",
    "    print(\"Rät vinkel.\")\n",
    "\n",
    "elif vinkel < 180:\n",
    "    print(\"Trubbig vinkel.\")\n",
    "\n",
    "else:\n",
    "    print(\"Vinkeln är varken trubbig, rät eller spetsig.\")"
   ]
  },
  {
   "cell_type": "code",
   "execution_count": null,
   "metadata": {},
   "outputs": [],
   "source": []
  }
 ]
}