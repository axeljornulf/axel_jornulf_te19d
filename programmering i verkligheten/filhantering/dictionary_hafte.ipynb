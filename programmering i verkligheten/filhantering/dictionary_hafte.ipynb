{
 "metadata": {
  "language_info": {
   "codemirror_mode": {
    "name": "ipython",
    "version": 3
   },
   "file_extension": ".py",
   "mimetype": "text/x-python",
   "name": "python",
   "nbconvert_exporter": "python",
   "pygments_lexer": "ipython3",
   "version": "3.8.3-final"
  },
  "orig_nbformat": 2,
  "kernelspec": {
   "name": "python3",
   "display_name": "Python 3.8.3 64-bit (conda)",
   "metadata": {
    "interpreter": {
     "hash": "68baef9b14bcf39f9d26db8e9f8d6f62893a325e07f78abc1611be81daff26f8"
    }
   }
  }
 },
 "nbformat": 4,
 "nbformat_minor": 2,
 "cells": [
  {
   "cell_type": "code",
   "execution_count": 8,
   "metadata": {},
   "outputs": [
    {
     "output_type": "stream",
     "name": "stdout",
     "text": [
      "Totala poäng som jag läser under min pågående kurs är 850 poänger.\n"
     ]
    }
   ],
   "source": [
    "#Uppgift 1\n",
    "kurser = {\n",
    "    \"Matte 3c\":100,\n",
    "    \"Fysik 1a\":150,\n",
    "    \"Dator- och Nätverksteknik\":100,\n",
    "    \"Idrott och Hälsa 1\":100,\n",
    "    \"Programmering 1\":100,\n",
    "    \"Webbutveckling 1\":100,\n",
    "    \"Tillämpadprogrammering\":100,\n",
    "    \"Svenska 2\":100\n",
    "}\n",
    "\n",
    "values = kurser.values()\n",
    "\n",
    "total = sum(values)\n",
    "\n",
    "print(f\"Totala poäng som jag läser under min pågående kurs är {total} poänger.\")"
   ]
  },
  {
   "cell_type": "code",
   "execution_count": 4,
   "metadata": {},
   "outputs": [
    {
     "output_type": "stream",
     "name": "stdout",
     "text": [
      "Frekvenser:\n1: 16858\n2: 16595\n3: 16554\n4: 16502\n5: 16711\n6: 16780\n"
     ]
    }
   ],
   "source": [
    "#Uppgift 2\n",
    "import random as rnd\n",
    "\n",
    "frekvenser = {\n",
    "\n",
    "}\n",
    "\n",
    "n = 0\n",
    "one = 0\n",
    "two = 0\n",
    "three = 0\n",
    "four = 0\n",
    "five = 0\n",
    "six = 0\n",
    "\n",
    "while n != 100000:\n",
    "    n += 1\n",
    "    tärningsKast = rnd.randint(1,6)\n",
    "    if tärningsKast == 1:\n",
    "        one += 1\n",
    "    elif tärningsKast == 2:\n",
    "        two += 1\n",
    "    elif tärningsKast == 3:\n",
    "        three += 1\n",
    "    elif tärningsKast == 4:\n",
    "        four += 1\n",
    "    elif tärningsKast == 5:\n",
    "        five += 1\n",
    "    elif tärningsKast == 6:\n",
    "        six += 1\n",
    "\n",
    "frekvenser[\"1\"] = one\n",
    "frekvenser[\"2\"] = two\n",
    "frekvenser[\"3\"] = three\n",
    "frekvenser[\"4\"] = four\n",
    "frekvenser[\"5\"] = five\n",
    "frekvenser[\"6\"] = six\n",
    " \n",
    "print(\"Frekvenser:\")\n",
    "for k, v in frekvenser.items():\n",
    "    print(f\"{k}: {v}\")"
   ]
  },
  {
   "cell_type": "code",
   "execution_count": 25,
   "metadata": {},
   "outputs": [
    {
     "output_type": "stream",
     "name": "stdout",
     "text": [
      "Typ: Elektrisk, Index: 25\n"
     ]
    }
   ],
   "source": [
    "#Uppgift 3\n",
    "pokedex = {}\n",
    "\n",
    "with open('pokemonlista.txt','r') as p:\n",
    "    for lines in p:\n",
    "      value = lines.split()\n",
    "      key = lines.split()\n",
    "      pokedex[key[1]] = f\"Typ: {value[2]}, Index: {value[0]}\"\n",
    "\n",
    "print(pokedex[\"Pikachu\"])"
   ]
  },
  {
   "cell_type": "code",
   "execution_count": null,
   "metadata": {},
   "outputs": [],
   "source": []
  }
 ]
}