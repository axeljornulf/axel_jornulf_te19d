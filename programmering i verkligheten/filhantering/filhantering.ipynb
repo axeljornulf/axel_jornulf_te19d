{
 "metadata": {
  "language_info": {
   "codemirror_mode": {
    "name": "ipython",
    "version": 3
   },
   "file_extension": ".py",
   "mimetype": "text/x-python",
   "name": "python",
   "nbconvert_exporter": "python",
   "pygments_lexer": "ipython3",
   "version": "3.8.3-final"
  },
  "orig_nbformat": 2,
  "kernelspec": {
   "name": "python3",
   "display_name": "Python 3.8.3 64-bit (conda)",
   "metadata": {
    "interpreter": {
     "hash": "68baef9b14bcf39f9d26db8e9f8d6f62893a325e07f78abc1611be81daff26f8"
    }
   }
  }
 },
 "nbformat": 4,
 "nbformat_minor": 2,
 "cells": [
  {
   "source": [
    "# Filhantering 1 - .txt\n",
    "\n",
    "- Läs in fil och skriv ut texten\n",
    "- Hitta alla födda före 1800-talet"
   ],
   "cell_type": "markdown",
   "metadata": {}
  },
  {
   "cell_type": "code",
   "execution_count": 10,
   "metadata": {},
   "outputs": [
    {
     "output_type": "stream",
     "name": "stdout",
     "text": [
      "Isaac Newton 1643-01-04\nGallileo Gallilei 1564-02-15\nLeonhard Euler 1707-04-15\nAlbert Einstein 1879-03-14\nCarl Friedrich Gauss 1799-04-30\nStephen Hawking 1942-01-08\n\nFöljande forskare var födde före 1800-talet:\nIsaac Newton\nGallileo Gallilei\nLeonhard Euler\nCarl Friedrich Gauss\n"
     ]
    }
   ],
   "source": [
    "före1800 = []\n",
    "\n",
    "with open(\"Stora_forskare.txt\", \"r\") as f1:\n",
    "    for rad in f1:\n",
    "        #print(rad, end=\"\")\n",
    "        rad = rad.strip(\" \\n\") #Slänger alla blanksteg och nyrad i slutet och början av varje rad\n",
    "        print(rad)\n",
    "\n",
    "        #print(rad[-10:-6])\n",
    "        år = int(rad[-10:-6]) #Typomvandlar årtalet till heltal\n",
    "        if år < 1800:\n",
    "         före1800.append(rad[:-11])\n",
    "    \n",
    "    print(\"\\nFöljande forskare var födde före 1800-talet:\")\n",
    "    for person in före1800:\n",
    "        print(person)"
   ]
  },
  {
   "source": [
    "## Skriva till en fil"
   ],
   "cell_type": "markdown",
   "metadata": {}
  },
  {
   "cell_type": "code",
   "execution_count": 11,
   "metadata": {},
   "outputs": [],
   "source": [
    "with open(\"Stora_forskare.txt\", \"r\") as f1, open(\"Stora_forskare.txt\", \"w\") as f2:\n",
    "    for rad in f1:\n",
    "        rad = rad.strip(\" \")\n",
    "        f2.write(rad)\n",
    "    f2.write(\"Andrew Wiles 1953-04-11\\n\")"
   ]
  },
  {
   "cell_type": "code",
   "execution_count": 7,
   "metadata": {},
   "outputs": [],
   "source": [
    "with open(\"Stora_forskare2.txt\", \"w\") as f1:\n",
    "    f1.write(\"Marie Cure 1867-11-07\\n\") #Skriver över det gamla fil"
   ]
  },
  {
   "cell_type": "code",
   "execution_count": 8,
   "metadata": {},
   "outputs": [],
   "source": [
    "with open(\"Stora_forskare2.txt\", \"a\") as f1: #Option: append \"a\"\n",
    "    f1.write(\"Albert Einstein 1879-03-14\\n\")"
   ]
  },
  {
   "cell_type": "code",
   "execution_count": null,
   "metadata": {},
   "outputs": [],
   "source": []
  }
 ]
}