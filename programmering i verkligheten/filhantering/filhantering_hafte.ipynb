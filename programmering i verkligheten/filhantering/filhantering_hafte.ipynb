{
 "metadata": {
  "language_info": {
   "codemirror_mode": {
    "name": "ipython",
    "version": 3
   },
   "file_extension": ".py",
   "mimetype": "text/x-python",
   "name": "python",
   "nbconvert_exporter": "python",
   "pygments_lexer": "ipython3",
   "version": "3.8.3-final"
  },
  "orig_nbformat": 2,
  "kernelspec": {
   "name": "python3",
   "display_name": "Python 3.8.3 64-bit (conda)",
   "metadata": {
    "interpreter": {
     "hash": "68baef9b14bcf39f9d26db8e9f8d6f62893a325e07f78abc1611be81daff26f8"
    }
   }
  }
 },
 "nbformat": 4,
 "nbformat_minor": 2,
 "cells": [
  {
   "cell_type": "code",
   "execution_count": 13,
   "metadata": {},
   "outputs": [
    {
     "output_type": "stream",
     "name": "stdout",
     "text": [
      "De simulerade tärningskast:  [2, 1, 1, 3, 5, 1, 2, 2, 3, 2]\nKastet sorterat:  [1, 1, 1, 2, 2, 2, 2, 3, 3, 5]\nAntal femmor:  1\n"
     ]
    }
   ],
   "source": [
    "#Uppgift 1\n",
    "import random as rnd\n",
    "\n",
    "emptyList = []\n",
    "antalFemmor = 0\n",
    "\n",
    "for i in range(10):\n",
    "    emptyList.append(rnd.randint(1,6))\n",
    "        \n",
    "for fem in emptyList:\n",
    "    if fem == 5:\n",
    "        antalFemmor += 1\n",
    "\n",
    "print(\"De simulerade tärningskast: \", emptyList)\n",
    "\n",
    "emptyList.sort()\n",
    "\n",
    "with open('diceRoll.txt', 'w') as suckiwacki:\n",
    "    suckiwacki.write(f\"Sorterad kast: {emptyList}\")\n",
    "\n",
    "print(\"Kastet sorterat: \", emptyList)\n",
    "print(\"Antal femmor: \", antalFemmor)"
   ]
  },
  {
   "cell_type": "code",
   "execution_count": 32,
   "metadata": {},
   "outputs": [
    {
     "output_type": "stream",
     "name": "stdout",
     "text": [
      "Adam Gustafsson 25\nEmil Johansson 23\nSven Erik Karlsson 13\nOve Karlsten 41\nEmma Boden 32\nIda HÃ¥kansson 23\nElla Ester 41\nHanna Karlsson 23 \nJohan Johansson 42\nSven Erik Lundin 39\nBjÃ¶rn BjÃ¶rnsson 39\nKarl Karlsson 32\nBose Bosseson 32\nHÃ¥kan HÃ¥kanson 24\nJonas Jonasson 31\nErik Eriksson 31\nGore Bord 55\nJakob Kallander 65\nFredrika Ulven 10"
     ]
    }
   ],
   "source": [
    "#Uppgift 2 a)\n",
    "\n",
    "with open('Provresultat.txt', 'r') as sucki:\n",
    "    for rad in sucki:\n",
    "        print(rad, end=\"\")"
   ]
  },
  {
   "cell_type": "code",
   "execution_count": 52,
   "metadata": {},
   "outputs": [
    {
     "output_type": "stream",
     "name": "stdout",
     "text": [
      "Adam Gustafsson 25\nBjÃ¶rn BjÃ¶rnsson 39\nBose Bosseson 32\nElla Ester 41\nEmil Johansson 23\nEmma Boden 32\nErik Eriksson 31\nFredrika Ulven 10\nGore Bord 55\nHanna Karlsson 23\nHÃ¥kan HÃ¥kanson 24\nIda HÃ¥kansson 23\nJakob Kallander 65\nJohan Johansson 42\nJonas Jonasson 31\nKarl Karlsson 32\nOve Karlsten 41\nSven Erik Karlsson 13\nSven Erik Lundin 39\n"
     ]
    }
   ],
   "source": [
    "#Uppgift 2 b)\n",
    "\n",
    "suckiList = []\n",
    "\n",
    "with open('Provresultat.txt') as sucki:\n",
    "    for rad in sucki:\n",
    "        suckiList.append(rad.strip())\n",
    "suckiList.sort()\n",
    "\n",
    "with open('Provresultat.txt', 'a') as wacki:\n",
    "    wacki.write('\\n\\nSorterade elever:')\n",
    "    for rad in suckiList:\n",
    "        wacki.write('\\n' + rad)\n",
    "\n",
    "for elever in suckiList:\n",
    "    print(elever)"
   ]
  },
  {
   "cell_type": "code",
   "execution_count": 95,
   "metadata": {},
   "outputs": [
    {
     "output_type": "stream",
     "name": "stdout",
     "text": [
      "F\nSven Erik Karlsson 13\nFredrika Ulven 10\n\nE\nAdam Gustafsson 25\nEmil Johansson 23\nIda HÃ¥kansson 23\nHanna Karlsson 23\nHÃ¥kan HÃ¥kanson 24\n\nD\nEmma Boden 32\nSven Erik Lundin 39\nBjÃ¶rn BjÃ¶rnsson 39\nKarl Karlsson 32\nBose Bosseson 32\nJonas Jonasson 31\nErik Eriksson 31\n\nC\nOve Karlsten 41\nElla Ester 41\nJohan Johansson 42\n\nB\nGore Bord 55\n\nA\nJakob Kallander 65\n"
     ]
    }
   ],
   "source": [
    "#Uppgift 2 c)\n",
    "\n",
    "fList = []\n",
    "eList = []\n",
    "dList = []\n",
    "cList = []\n",
    "bList = []\n",
    "aList = []\n",
    "\n",
    "with open('Provresultat.txt', 'r') as sucki:\n",
    "\n",
    "    for rad in sucki:\n",
    "\n",
    "        points = int(rad[-3:-1])\n",
    "\n",
    "        if points < 20:\n",
    "            fList.append(rad.strip())\n",
    "        elif points >= 20 and points <= 29:\n",
    "            eList.append(rad.strip())\n",
    "        elif points >= 30 and points <= 39:\n",
    "            dList.append(rad.strip())\n",
    "        elif points >= 40 and points <= 49:\n",
    "            cList.append(rad.strip())\n",
    "        elif points >= 50 and points <= 59:\n",
    "            bList.append(rad.strip())\n",
    "        elif points >= 60 and points <= 70:\n",
    "            aList.append(rad.strip())\n",
    "\n",
    "with open('Provresultat.txt', 'a') as wacki:\n",
    "    \n",
    "    wacki.write('\\n\\nF')\n",
    "    for F in fList:\n",
    "        wacki.write('\\n' + F)\n",
    "    \n",
    "    wacki.write('\\n\\nE')\n",
    "    for E in eList:\n",
    "        wacki.write('\\n' + E)\n",
    "    \n",
    "    wacki.write('\\n\\nD')\n",
    "    for D in dList:\n",
    "        wacki.write('\\n' + D)\n",
    "    \n",
    "    wacki.write('\\n\\nC')\n",
    "    for C in cList:\n",
    "        wacki.write('\\n' + C)\n",
    "    \n",
    "    wacki.write('\\n\\nA')\n",
    "    for B in bList:\n",
    "        wacki.write('\\n' + B)\n",
    "\n",
    "    wacki.write('\\n\\nA')\n",
    "    for A in aList:\n",
    "        wacki.write('\\n' + A)\n",
    "\n",
    "print(\"F\")\n",
    "for eleverF in fList:\n",
    "    print(eleverF)\n",
    "\n",
    "print(\"\\nE\")\n",
    "for eleverE in eList:\n",
    "    print(eleverE)\n",
    "\n",
    "print(\"\\nD\")\n",
    "for eleverD in dList:\n",
    "    print(eleverD)\n",
    "\n",
    "print(\"\\nC\")\n",
    "for eleverC in cList:\n",
    "    print(eleverC)\n",
    "\n",
    "print(\"\\nB\")\n",
    "for eleverB in bList:\n",
    "    print(eleverB)\n",
    "\n",
    "print(\"\\nA\")\n",
    "for eleverA in aList:\n",
    "    print(eleverA)"
   ]
  },
  {
   "cell_type": "code",
   "execution_count": null,
   "metadata": {},
   "outputs": [],
   "source": []
  }
 ]
}