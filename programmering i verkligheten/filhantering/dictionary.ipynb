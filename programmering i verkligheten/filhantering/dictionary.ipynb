{
 "metadata": {
  "language_info": {
   "codemirror_mode": {
    "name": "ipython",
    "version": 3
   },
   "file_extension": ".py",
   "mimetype": "text/x-python",
   "name": "python",
   "nbconvert_exporter": "python",
   "pygments_lexer": "ipython3",
   "version": "3.9.1-final"
  },
  "orig_nbformat": 2,
  "kernelspec": {
   "name": "python3",
   "display_name": "Python 3.9.1 64-bit",
   "metadata": {
    "interpreter": {
     "hash": "4219126068bc8f4e39770ff1c416a42056f8cbec4ad1b0250d2f5fa04e06bca0"
    }
   }
  }
 },
 "nbformat": 4,
 "nbformat_minor": 2,
 "cells": [
  {
   "source": [
    "# Dictionary\n",
    "- metafor: en ordlista - söker på ett ord och får fram en förklaring.\n",
    "- key: value par"
   ],
   "cell_type": "markdown",
   "metadata": {}
  },
  {
   "source": [
    "#Syntax med dict()\n",
    "\n",
    "person = dict(\n",
    "    namn = \"Axel\",\n",
    "    ålder = 18,\n",
    "    yrke = \"elev\",\n",
    "    arbetsplats = \"NTI\"\n",
    ")\n",
    "\n",
    "print(person)\n",
    "print(f\"Personens namn är {person['namn']}\")\n",
    "print(f\"Han är {person['ålder']} år gammal\")\n",
    "print(f\"{person['namn']} jobbar som {person['yrke']} på skolan {person['arbetsplats']}\")"
   ],
   "cell_type": "code",
   "metadata": {},
   "execution_count": 5,
   "outputs": [
    {
     "output_type": "stream",
     "name": "stdout",
     "text": [
      "{'namn': 'Axel', 'ålder': 18, 'yrke': 'elev', 'arbetsplats': 'NTI'}\nPersonens namn är Axel\nHan är 18 år gammal\nAxel jobbar som elev på skolan NTI\n"
     ]
    }
   ]
  },
  {
   "cell_type": "code",
   "execution_count": 14,
   "metadata": {},
   "outputs": [
    {
     "output_type": "stream",
     "name": "stdout",
     "text": [
      "Orden vi ska lära oss är: \ntilldela, datastruktur, sträng, dictionary, \n\nGlosa \t\t Betydelse\ntilldela  \t ge ett vårde till en variabel\ndatastruktur  \t struktuering av data\nsträng  \t sekvens av tecken\ndictionary  \t datastruktur för att spara data i key:value par\n"
     ]
    }
   ],
   "source": [
    "#Syntax med måsvingar {}\n",
    "\n",
    "glosor = {\n",
    "    \"tilldela\":\"ge ett vårde till en variabel\",\n",
    "    \"datastruktur\":\"struktuering av data\",\n",
    "    \"sträng\":\"sekvens av tecken\"\n",
    "}\n",
    "#Lägga till element i dictionary\n",
    "glosor[\"dictionary\"] = \"datastruktur för att spara data i key:value par\"\n",
    "\n",
    "#print(glosor)\n",
    "#print(glosor[\"tilldela\"])\n",
    "\n",
    "#itererar över nycklarna i dictionary\n",
    "print(\"Orden vi ska lära oss är: \")\n",
    "for k in glosor:\n",
    "    print(k, end=\", \")\n",
    "\n",
    "#itererar över nyckel, värde i dictionary\n",
    "print(\"\\n\\nGlosa \\t\\t Betydelse\")\n",
    "for k, value in glosor.items():\n",
    "    print(f\"{k}  \\t {value}\")"
   ]
  },
  {
   "cell_type": "code",
   "execution_count": null,
   "metadata": {},
   "outputs": [],
   "source": []
  }
 ]
}