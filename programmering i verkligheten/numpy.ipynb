{
 "metadata": {
  "language_info": {
   "codemirror_mode": {
    "name": "ipython",
    "version": 3
   },
   "file_extension": ".py",
   "mimetype": "text/x-python",
   "name": "python",
   "nbconvert_exporter": "python",
   "pygments_lexer": "ipython3",
   "version": "3.8.3-final"
  },
  "orig_nbformat": 2,
  "kernelspec": {
   "name": "python3",
   "display_name": "Python 3.8.3 64-bit (conda)",
   "metadata": {
    "interpreter": {
     "hash": "68baef9b14bcf39f9d26db8e9f8d6f62893a325e07f78abc1611be81daff26f8"
    }
   }
  }
 },
 "nbformat": 4,
 "nbformat_minor": 2,
 "cells": [
  {
   "source": [
    "# Numpy\n",
    "\n",
    "Numerisk Python\n",
    "- Arrays (fält)\n",
    "- Lik listor\n",
    "- Matematiska operationer på arrays\n",
    "- Modellera vektorer och matriser"
   ],
   "cell_type": "markdown",
   "metadata": {}
  },
  {
   "cell_type": "code",
   "execution_count": 10,
   "metadata": {},
   "outputs": [
    {
     "output_type": "stream",
     "name": "stdout",
     "text": [
      "Array: [1 2 3 4]\nLista: [1, 2, 3, 4]\n3\n[2 4 6 8]\n[1, 2, 3, 4, 1, 2, 3, 4]\n[ 1  4  9 16]\n"
     ]
    }
   ],
   "source": [
    "import numpy as np\n",
    "\n",
    "#pip install numpy - om man har vanlig python\n",
    "\n",
    "array1 = np.array([1,2,3,4])\n",
    "lista1 = [1,2,3,4]\n",
    "\n",
    "print(f\"Array: {array1}\")\n",
    "print(f\"Lista: {lista}\")\n",
    "\n",
    "#indexera arrays, fungerar på samma sätt som att indexera listor \"[]\"\n",
    "print(array1[2])\n",
    "\n",
    "#multiplicera alla tal med 2\n",
    "array2 = array1*2\n",
    "print(array2)\n",
    "\n",
    "lista2 = lista1*2\n",
    "print(lista2)\n",
    "\n",
    "kvadrater = array1**2\n",
    "print(kvadrater)"
   ]
  },
  {
   "source": [
    "## Användbara numpy-funktioner\n",
    "- zeros\n",
    "- ones\n",
    "- arange\n",
    "- linspace\n",
    "- matematiska funktioner och konstanter: pi, sqrt"
   ],
   "cell_type": "markdown",
   "metadata": {}
  },
  {
   "cell_type": "code",
   "execution_count": 14,
   "metadata": {},
   "outputs": [
    {
     "output_type": "stream",
     "name": "stdout",
     "text": [
      "[0 1 2 3 4 5 6 7 8 9]\n[0.         1.         1.41421356 1.73205081 2.         2.23606798\n 2.44948974 2.64575131 2.82842712 3.        ]\n[0. 0. 0. 0. 0. 0.]\n[1. 1. 1. 1. 1. 1.]\n"
     ]
    }
   ],
   "source": [
    "import numpy as np\n",
    "\n",
    "#arange\n",
    "tal = np.arange(10)\n",
    "print(tal)\n",
    "\n",
    "#sqrt\n",
    "print(np.sqrt(tal))\n",
    "\n",
    "nollor = np.zeros(6)\n",
    "print(nollor)\n",
    "\n",
    "ettor = np.ones(6)\n",
    "print(ettor)"
   ]
  },
  {
   "source": [
    "### Simulera tärningskast"
   ],
   "cell_type": "markdown",
   "metadata": {}
  },
  {
   "cell_type": "code",
   "execution_count": 18,
   "metadata": {},
   "outputs": [
    {
     "output_type": "stream",
     "name": "stdout",
     "text": [
      "Tärningskast: [16683 16826 16515 16688 16552 16736]\nSannolikhet: [0.16683 0.16826 0.16515 0.16688 0.16552 0.16736]\n"
     ]
    }
   ],
   "source": [
    "import numpy as np\n",
    "import random as rnd\n",
    "\n",
    "#array med nollor för att preallokera minne\n",
    "utfall = np.zeros(6, dtype=int)\n",
    "\n",
    "antal_kast = 100000\n",
    "for i in range(antal_kast):\n",
    "    kast = rnd.randint(1,6)\n",
    "    utfall[kast-1] += 1\n",
    "\n",
    "print(f\"Tärningskast: {utfall}\")\n",
    "print(f\"Sannolikhet: {utfall/antal_kast}\")"
   ]
  },
  {
   "cell_type": "code",
   "execution_count": null,
   "metadata": {},
   "outputs": [],
   "source": []
  }
 ]
}