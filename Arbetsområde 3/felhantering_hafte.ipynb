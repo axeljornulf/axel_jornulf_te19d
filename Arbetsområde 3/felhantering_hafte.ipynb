{
 "metadata": {
  "language_info": {
   "codemirror_mode": {
    "name": "ipython",
    "version": 3
   },
   "file_extension": ".py",
   "mimetype": "text/x-python",
   "name": "python",
   "nbconvert_exporter": "python",
   "pygments_lexer": "ipython3",
   "version": "3.8.3-final"
  },
  "orig_nbformat": 2,
  "kernelspec": {
   "name": "python3",
   "display_name": "Python 3",
   "language": "python"
  }
 },
 "nbformat": 4,
 "nbformat_minor": 2,
 "cells": [
  {
   "cell_type": "code",
   "execution_count": 2,
   "metadata": {},
   "outputs": [
    {
     "output_type": "stream",
     "name": "stdout",
     "text": [
      "1.0\n"
     ]
    }
   ],
   "source": [
    "#Uppgift 1\n",
    "'''\n",
    "gammal kod:\n",
    "\n",
    "impor numpy as np\n",
    "\n",
    "def distance(p1,p2):\n",
    "    reurn np.sqrt(p1+p2)\n",
    "\n",
    "print(distance([0.5,0.5]))\n",
    "'''\n",
    "#ny kod\n",
    "import numpy as np\n",
    "\n",
    "def distance(p1,p2):\n",
    "    return np.sqrt(p1+p2)\n",
    "\n",
    "print(distance(0.5,0.5))"
   ]
  },
  {
   "cell_type": "code",
   "execution_count": 17,
   "metadata": {
    "tags": []
   },
   "outputs": [
    {
     "output_type": "stream",
     "name": "stdout",
     "text": [
      "100 är fyrsiffrigt\n231 är fyrsiffrigt\n10000 är inte fyrsiffrigt\n10001 är inte fyrsiffrigt\n-1000 är fyrsiffrigt\n102313 är inte fyrsiffrigt\n"
     ]
    }
   ],
   "source": [
    "#Uppgift 2\n",
    "'''\n",
    "gammal kod:\n",
    "\n",
    "def ar_fyrsiffrigt(tal):\n",
    "    if tal//1000 < 10:\n",
    "        return True\n",
    "    else:\n",
    "        return False\n",
    "\n",
    "#testprogram\n",
    "testtal = [100, 231, 10000, 10001, -1000, 102313]\n",
    "\n",
    "for t in testtal:\n",
    "    if ar_fyrsirigt(t): #syntax error\n",
    "        print(f\"{t} är fyrsiffrigt\")\n",
    "    else:\n",
    "        print(f\"{t} är inte fyrsiffrigt\")\n",
    "'''\n",
    "\n",
    "def ar_fyrsiffrigt(tal):\n",
    "    if tal//1000 < 10:\n",
    "        return True\n",
    "    else:\n",
    "        return False\n",
    "\n",
    "#testprogram\n",
    "testtal = [100, 231, 10000, 10001, -1000, 102313]\n",
    "\n",
    "for t in testtal:\n",
    "    if ar_fyrsiffrigt(t):\n",
    "        print(f\"{t} är fyrsiffrigt\")\n",
    "    else:\n",
    "        print(f\"{t} är inte fyrsiffrigt\")"
   ]
  },
  {
   "cell_type": "code",
   "execution_count": 1,
   "metadata": {},
   "outputs": [
    {
     "output_type": "stream",
     "name": "stdout",
     "text": [
      "Månadskort kostar 595 kr\nDin totala kostnad är 750 kr\nDu tjänar genom att satsa på månadskort.\n"
     ]
    }
   ],
   "source": [
    "#Uppgift 3\n",
    "\n",
    "def shashumga(å):\n",
    "    #Fritidskort: 595 kr/månad\n",
    "    #Engångsbiljett: 50 kr \n",
    "    kort = 595\n",
    "    biljett = 50\n",
    "    \n",
    "    resa = å * biljett\n",
    "\n",
    "    if resa > kort:\n",
    "        print(\"Månadskort kostar\", kort, \"kr\")\n",
    "        print(\"Din totala kostnad är\", resa, \"kr\")\n",
    "        print(\"Du tjänar genom att satsa på månadskort.\")\n",
    "    else:\n",
    "        print(\"Månadskort kostar\", kort, \"kr\")\n",
    "        print(\"Din totala kostnad är\", resa, \"kr\")\n",
    "        print(\"Du känar genom att satsa på biljetter.\")\n",
    "\n",
    "while True:\n",
    "    try:\n",
    "        åktur = int(input(\"Ange hur många gånger du har åkt spårvagn: \"))\n",
    "        shashumga(åktur)\n",
    "        break\n",
    "    except ValueError:\n",
    "        print(\"Du måste ange ett heltal!\")"
   ]
  },
  {
   "cell_type": "code",
   "execution_count": 21,
   "metadata": {
    "tags": []
   },
   "outputs": [
    {
     "output_type": "stream",
     "name": "stdout",
     "text": [
      "I detta program ska du mata in 5 tal, programmet räknar fram största och minsta tal, samt medelvärdet och medianen.\n",
      "Dina val:  [3, 4, 5, 7, 2]\n",
      "Största tal som du har matat in är 7\n",
      "Minsta tal som du har matat in är 2\n",
      "Medelvärdet av alla tal är 4.2\n",
      "Medianen är 5\n"
     ]
    }
   ],
   "source": [
    "#Uppgift 4\n",
    "\n",
    "import time\n",
    "\n",
    "def suckass(o,t,th,f,fi):\n",
    "    theList = [o,t,th,f,fi]\n",
    "    print(\"Dina val: \", theList)\n",
    "    theList.sort()\n",
    "    print(\"Största tal som du har matat in är\", theList[4])\n",
    "    print(\"Minsta tal som du har matat in är\", theList[0])\n",
    "    print(\"Medelvärdet av alla tal är\", round(sum(theList)/len(theList),2))\n",
    "    print(\"Medianen är\", theList[3])\n",
    "\n",
    "\n",
    "print(\"I detta program ska du mata in 5 tal, programmet räknar fram största och minsta tal, samt medelvärdet och medianen.\")\n",
    "time.sleep(5)\n",
    "\n",
    "while True:\n",
    "    try:\n",
    "        o = int(input(\"Ange första tal: \"))\n",
    "        t = int(input(\"Ange andra tal: \"))\n",
    "        th = int(input(\"Ange tredje tal: \"))\n",
    "        f = int(input(\"Ange fjärde tal: \"))\n",
    "        fi = int(input(\"Ange femte tal: \"))\n",
    "        suckass(o,t,th,f,fi)\n",
    "        break\n",
    "    except ValueError:\n",
    "        print(\"Ange ett tal, inte en sträng!\")"
   ]
  },
  {
   "cell_type": "code",
   "execution_count": null,
   "metadata": {},
   "outputs": [],
   "source": []
  }
 ]
}