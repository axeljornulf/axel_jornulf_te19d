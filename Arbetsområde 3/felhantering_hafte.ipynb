{
 "metadata": {
  "language_info": {
   "codemirror_mode": {
    "name": "ipython",
    "version": 3
   },
   "file_extension": ".py",
   "mimetype": "text/x-python",
   "name": "python",
   "nbconvert_exporter": "python",
   "pygments_lexer": "ipython3",
   "version": "3.8.3-final"
  },
  "orig_nbformat": 2,
  "kernelspec": {
   "name": "python3",
   "display_name": "Python 3",
   "language": "python"
  }
 },
 "nbformat": 4,
 "nbformat_minor": 2,
 "cells": [
  {
   "cell_type": "code",
   "execution_count": 2,
   "metadata": {},
   "outputs": [
    {
     "output_type": "stream",
     "name": "stdout",
     "text": [
      "1.0\n"
     ]
    }
   ],
   "source": [
    "#Uppgift 1\n",
    "'''\n",
    "gammal kod:\n",
    "\n",
    "impor numpy as np\n",
    "\n",
    "def distance(p1,p2):\n",
    "    reurn np.sqrt(p1+p2)\n",
    "\n",
    "print(distance([0.5,0.5]))\n",
    "'''\n",
    "#ny kod\n",
    "import numpy as np\n",
    "\n",
    "def distance(p1,p2):\n",
    "    return np.sqrt(p1+p2)\n",
    "\n",
    "print(distance(0.5,0.5))"
   ]
  },
  {
   "cell_type": "code",
   "execution_count": 17,
   "metadata": {
    "tags": []
   },
   "outputs": [
    {
     "output_type": "stream",
     "name": "stdout",
     "text": [
      "100 är fyrsiffrigt\n231 är fyrsiffrigt\n10000 är inte fyrsiffrigt\n10001 är inte fyrsiffrigt\n-1000 är fyrsiffrigt\n102313 är inte fyrsiffrigt\n"
     ]
    }
   ],
   "source": [
    "#Uppgift 2\n",
    "'''\n",
    "gammal kod:\n",
    "\n",
    "def ar_fyrsiffrigt(tal):\n",
    "    if tal//1000 < 10:\n",
    "        return True\n",
    "    else:\n",
    "        return False\n",
    "\n",
    "#testprogram\n",
    "testtal = [100, 231, 10000, 10001, -1000, 102313]\n",
    "\n",
    "for t in testtal:\n",
    "    if ar_fyrsirigt(t): #syntax error\n",
    "        print(f\"{t} är fyrsiffrigt\")\n",
    "    else:\n",
    "        print(f\"{t} är inte fyrsiffrigt\")\n",
    "'''\n",
    "\n",
    "def ar_fyrsiffrigt(tal):\n",
    "    if tal//1000 < 10:\n",
    "        return True\n",
    "    else:\n",
    "        return False\n",
    "\n",
    "#testprogram\n",
    "testtal = [100, 231, 10000, 10001, -1000, 102313]\n",
    "\n",
    "for t in testtal:\n",
    "    if ar_fyrsiffrigt(t):\n",
    "        print(f\"{t} är fyrsiffrigt\")\n",
    "    else:\n",
    "        print(f\"{t} är inte fyrsiffrigt\")"
   ]
  },
  {
   "cell_type": "code",
   "execution_count": 21,
   "metadata": {},
   "outputs": [
    {
     "output_type": "stream",
     "name": "stdout",
     "text": [
      "Du måste ange ett heltal!\n",
      "Månadskort kostar 595 kr\n",
      "Din totala kostnad är 750 kr\n",
      "Du tjänar genom att köpa månadskort.\n"
     ]
    }
   ],
   "source": [
    "def shashumga(å):\n",
    "    #Fritidskort: 595 kr/månad\n",
    "    #Engångsbiljett: 50 kr \n",
    "    kort = 595\n",
    "    biljett = 50\n",
    "    \n",
    "    resa = å * biljett\n",
    "\n",
    "    if resa > kort:\n",
    "        print(\"Månadskort kostar\", kort, \"kr\")\n",
    "        print(\"Din totala kostnad är\", resa, \"kr\")\n",
    "        print(\"Du tjänar genom att köpa månadskort.\")\n",
    "    else:\n",
    "        print(\"Månadskort kostar\", kort, \"kr\")\n",
    "        print(\"Din totala kostnad är\", resa, \"kr\")\n",
    "        print(\"Du känar genom att månadskort.\")\n",
    "\n",
    "while True:\n",
    "    try:\n",
    "        åktur = int(input(\"Ange hur många gånger du har åkt spårvagn: \"))\n",
    "        shashumga(åktur)\n",
    "        break\n",
    "    except ValueError:\n",
    "        print(\"Du måste ange ett heltal!\")"
   ]
  },
  {
   "cell_type": "code",
   "execution_count": null,
   "metadata": {},
   "outputs": [],
   "source": []
  }
 ]
}