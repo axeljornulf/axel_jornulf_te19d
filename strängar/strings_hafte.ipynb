{
 "metadata": {
  "language_info": {
   "codemirror_mode": {
    "name": "ipython",
    "version": 3
   },
   "file_extension": ".py",
   "mimetype": "text/x-python",
   "name": "python",
   "nbconvert_exporter": "python",
   "pygments_lexer": "ipython3",
   "version": "3.8.3-final"
  },
  "orig_nbformat": 2,
  "kernelspec": {
   "name": "python3",
   "display_name": "Python 3.8.3 64-bit (conda)",
   "metadata": {
    "interpreter": {
     "hash": "68baef9b14bcf39f9d26db8e9f8d6f62893a325e07f78abc1611be81daff26f8"
    }
   }
  }
 },
 "nbformat": 4,
 "nbformat_minor": 2,
 "cells": [
  {
   "cell_type": "code",
   "execution_count": 1,
   "metadata": {},
   "outputs": [
    {
     "output_type": "stream",
     "name": "stdout",
     "text": [
      "Antal bokstäver i namnet Jonas är: 5\n"
     ]
    }
   ],
   "source": [
    "# Uppgift 1\n",
    "\n",
    "namn = input(\"Ange namn: \")\n",
    "antal_bokstäver = len(namn)\n",
    "\n",
    "print(f\"Antal bokstäver i namnet {namn} är: {antal_bokstäver}\")"
   ]
  },
  {
   "cell_type": "code",
   "execution_count": 13,
   "metadata": {},
   "outputs": [
    {
     "output_type": "stream",
     "name": "stdout",
     "text": [
      "Antal bokstäver i meningen 'En bild säger mer än tusen ord, en matematisk formel säger mer än tusen bilder.' är: 65\n"
     ]
    }
   ],
   "source": [
    "# Uppgift 2\n",
    "\n",
    "mening = \"'En bild säger mer än tusen ord, en matematisk formel säger mer än tusen bilder.'\"\n",
    "\n",
    "antal_bokstäver = len(mening) - mening.count(\" \") - mening.count(\",\") - mening.count(\".\") # Utelämnar punkt, kommatecken och mellanslag.\n",
    "\n",
    "print(f\"Antal bokstäver i meningen {mening} är: {antal_bokstäver}\")"
   ]
  },
  {
   "cell_type": "code",
   "execution_count": 11,
   "metadata": {},
   "outputs": [
    {
     "output_type": "stream",
     "name": "stdout",
     "text": [
      "anna är en palindrom.\n"
     ]
    }
   ],
   "source": [
    "# Uppgift 3 a)\n",
    "\n",
    "character = input(\"Ange en sträng utan mellanslag och skiljetecken: \")\n",
    "character = character.lower()\n",
    "\n",
    "if character == character[::-1]:\n",
    "    print(f\"{character} är en palindrom.\")\n",
    "\n",
    "else:\n",
    "    print(f\"{character} är inte en palindrom.\")"
   ]
  },
  {
   "cell_type": "code",
   "execution_count": 20,
   "metadata": {},
   "outputs": [
    {
     "output_type": "stream",
     "name": "stdout",
     "text": [
      "racecar är en palindrom.\n"
     ]
    }
   ],
   "source": [
    "# Uppgift 3 b)\n",
    "\n",
    "character = input(\"Ange en sträng: \")\n",
    "character = character.lower()\n",
    "\n",
    "character = character.replace(\" \",\"\")\n",
    "character = character.replace(\",\",\"\")\n",
    "\n",
    "if character == newCharacter[::-1]:\n",
    "    print(f\"{character} är en palindrom.\")\n",
    "\n",
    "else:\n",
    "    print(f\"{character} är inte en palindrom.\")"
   ]
  },
  {
   "cell_type": "code",
   "execution_count": 30,
   "metadata": {},
   "outputs": [
    {
     "output_type": "stream",
     "name": "stdout",
     "text": [
      "Do not worry about your difficulties in mathematics. I can assure you mine are still greater.\n{'a': 7, 'o': 6, 'u': 5, 'å': 0, 'e': 7, 'i': 8, 'y': 3, 'ä': 0, 'ö': 0}\n\nAntal vokaler:  33\n"
     ]
    }
   ],
   "source": [
    "# Uppgift 4\n",
    "\n",
    "string = \"Do not worry about your difficulties in mathematics. I can assure you mine are still greater.\"\n",
    "\n",
    "lowerString = string.lower()\n",
    "\n",
    "vokal1 = \"aouåeiyäö\"\n",
    "vokalSplit = vokal1.split()\n",
    "\n",
    "vokalAntal = 0\n",
    "\n",
    "vokal_räkningar = {}\n",
    "\n",
    "for i in vokal1:\n",
    "    count = lowerString.count(i)\n",
    "    vokal_räkningar[i] = count\n",
    "\n",
    "for j in lowerString:\n",
    "    if j=='a' or j=='e' or j=='i' or j=='o' or j=='u' or j=='A' or j=='E' or j=='I' or j=='O' or j=='U':\n",
    "        vokalAntal += 1\n",
    "    \n",
    "print(string)\n",
    "print(vokal_räkningar)\n",
    "print()\n",
    "print(\"Antal vokaler: \", vokalAntal)"
   ]
  },
  {
   "cell_type": "code",
   "execution_count": null,
   "metadata": {},
   "outputs": [],
   "source": []
  }
 ]
}