{
 "metadata": {
  "language_info": {
   "codemirror_mode": {
    "name": "ipython",
    "version": 3
   },
   "file_extension": ".py",
   "mimetype": "text/x-python",
   "name": "python",
   "nbconvert_exporter": "python",
   "pygments_lexer": "ipython3",
   "version": "3.8.3-final"
  },
  "orig_nbformat": 2,
  "kernelspec": {
   "name": "Python 3.8.3 64-bit ('Axel': virtualenv)",
   "display_name": "Python 3.8.3 64-bit ('Axel': virtualenv)",
   "metadata": {
    "interpreter": {
     "hash": "68baef9b14bcf39f9d26db8e9f8d6f62893a325e07f78abc1611be81daff26f8"
    }
   }
  }
 },
 "nbformat": 4,
 "nbformat_minor": 2,
 "cells": [
  {
   "source": [
    "# Strängar Python\n",
    "* indexeringsoperator\n",
    "* skivoperator\n",
    "* konkatenering\n",
    "* escape-sekvens"
   ],
   "cell_type": "markdown",
   "metadata": {}
  },
  {
   "cell_type": "code",
   "execution_count": 6,
   "metadata": {},
   "outputs": [
    {
     "output_type": "stream",
     "name": "stdout",
     "text": [
      "Namn: \tAxel Jörnulf\nÅlder: \t18\nTelefon: 725487234\n"
     ]
    }
   ],
   "source": [
    "förnamn = \"Axel\"\n",
    "efternamn = \"Jörnulf\"\n",
    "ålder = \"18\"\n",
    "telefon = 725487234\n",
    "\n",
    "#konkatenering\n",
    "namn = förnamn + \" \" + efternamn\n",
    "person = \"Namn: \\t\" + namn +\"\\n\"+ \"Ålder: \\t\" + ålder + \"\\nTelefon: \" + str(telefon) # konkatenerat med en ny rad (escape-sekvens)\n",
    "\n",
    "print(person)"
   ]
  },
  {
   "source": [
    "# Indexering"
   ],
   "cell_type": "markdown",
   "metadata": {}
  },
  {
   "cell_type": "code",
   "execution_count": 10,
   "metadata": {},
   "outputs": [
    {
     "output_type": "stream",
     "name": "stdout",
     "text": [
      "Antalet bokstäver i alfabetet är: 29\nBokstav på index 0: a\nBokstav på index 8: i\nBokstav på index -2: ä\nAlfabetet baklänges: öäåzyxwvutsrqponmlkjihgfedcba\n"
     ]
    }
   ],
   "source": [
    "alfabet = \"abcdefghijklmnopqrstuvwxyzåäö\"\n",
    "antal_bokstäver = len(alfabet)\n",
    "\n",
    "print(f\"Antalet bokstäver i alfabetet är: {antal_bokstäver}\")\n",
    "print(f\"Bokstav på index 0: {alfabet[0]}\")\n",
    "print(f\"Bokstav på index 8: {alfabet[8]}\")\n",
    "print(f\"Bokstav på index -2: {alfabet[-2]}\")\n",
    "print(f\"Alfabetet baklänges: {alfabet[::-1]}\")"
   ]
  },
  {
   "source": [
    "## split()"
   ],
   "cell_type": "markdown",
   "metadata": {}
  },
  {
   "cell_type": "code",
   "execution_count": 16,
   "metadata": {},
   "outputs": [
    {
     "output_type": "stream",
     "name": "stdout",
     "text": [
      "Matte, Fysik, Programmering, Svenska\nJag gillar Matte\nJag gillar Fysik\nJag gillar Programmering\nJag gillar Svenska\n"
     ]
    }
   ],
   "source": [
    "favoritämnen = \"Matte, Fysik, Programmering, Svenska\"\n",
    "\n",
    "print(favoritämnen)\n",
    "\n",
    "ämnen_lista = favoritämnen.split(\", \")\n",
    "\n",
    "#print(ämnen_lista)\n",
    "ämnen_lista[2]\n",
    "\n",
    "for ämne in ämnen_lista:\n",
    "    print(f\"Jag gillar {ämne}\")"
   ]
  },
  {
   "cell_type": "code",
   "execution_count": null,
   "metadata": {},
   "outputs": [],
   "source": []
  }
 ]
}