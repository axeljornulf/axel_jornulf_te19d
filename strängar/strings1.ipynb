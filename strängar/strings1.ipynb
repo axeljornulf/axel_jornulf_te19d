{
 "metadata": {
  "language_info": {
   "codemirror_mode": {
    "name": "ipython",
    "version": 3
   },
   "file_extension": ".py",
   "mimetype": "text/x-python",
   "name": "python",
   "nbconvert_exporter": "python",
   "pygments_lexer": "ipython3",
   "version": "3.8.3-final"
  },
  "orig_nbformat": 2,
  "kernelspec": {
   "name": "Python 3.8.3 64-bit (conda)",
   "display_name": "Python 3.8.3 64-bit (conda)",
   "metadata": {
    "interpreter": {
     "hash": "2b94ce622b12296cd06d8b15708673b3418dcdf4211bc2885f010613abb76548"
    }
   }
  }
 },
 "nbformat": 4,
 "nbformat_minor": 2,
 "cells": [
  {
   "source": [
    "# Strängar Python\n",
    "* indexeringsoperator\n",
    "* skivoperator\n",
    "* konkatenering\n",
    "* escape-sekvens"
   ],
   "cell_type": "markdown",
   "metadata": {}
  },
  {
   "source": [
    "# Konkatenering"
   ],
   "cell_type": "markdown",
   "metadata": {}
  },
  {
   "cell_type": "code",
   "execution_count": 6,
   "metadata": {},
   "outputs": [
    {
     "output_type": "stream",
     "name": "stdout",
     "text": [
      "Namn: \tAxel Jörnulf\nÅlder: \t18\nTelefon: 725487234\n"
     ]
    }
   ],
   "source": [
    "förnamn = \"Axel\"\n",
    "efternamn = \"Jörnulf\"\n",
    "ålder = \"18\"\n",
    "telefon = 725487234\n",
    "\n",
    "#konkatenering\n",
    "namn = förnamn + \" \" + efternamn\n",
    "person = \"Namn: \\t\" + namn +\"\\n\"+ \"Ålder: \\t\" + ålder + \"\\nTelefon: \" + str(telefon) # konkatenerat med en ny rad (escape-sekvens)\n",
    "\n",
    "print(person)"
   ]
  },
  {
   "cell_type": "code",
   "execution_count": 2,
   "metadata": {},
   "outputs": [
    {
     "output_type": "stream",
     "name": "stdout",
     "text": [
      "10\n"
     ]
    }
   ],
   "source": [
    "tal1 = int(input(\"Ange ett tal: \"))\n",
    "tal2 = int(input(\"Ange ett annat tal: \"))\n",
    "\n",
    "summa = tal1 + tal2\n",
    "print(summa)"
   ]
  },
  {
   "source": [
    "# Indexering"
   ],
   "cell_type": "markdown",
   "metadata": {}
  },
  {
   "cell_type": "code",
   "execution_count": 10,
   "metadata": {},
   "outputs": [
    {
     "output_type": "stream",
     "name": "stdout",
     "text": [
      "Antalet bokstäver i alfabetet är: 29\nBokstav på index 0: a\nBokstav på index 8: i\nBokstav på index -2: ä\nAlfabetet baklänges: öäåzyxwvutsrqponmlkjihgfedcba\n"
     ]
    }
   ],
   "source": [
    "alfabet = \"abcdefghijklmnopqrstuvwxyzåäö\"\n",
    "antal_bokstäver = len(alfabet)\n",
    "\n",
    "print(f\"Antalet bokstäver i alfabetet är: {antal_bokstäver}\")\n",
    "print(f\"Bokstav på index 0: {alfabet[0]}\")\n",
    "print(f\"Bokstav på index 8: {alfabet[8]}\")\n",
    "print(f\"Bokstav på index -2: {alfabet[-2]}\")\n",
    "print(f\"Alfabetet baklänges: {alfabet[::-1]}\")"
   ]
  },
  {
   "source": [
    "## split()"
   ],
   "cell_type": "markdown",
   "metadata": {}
  },
  {
   "cell_type": "code",
   "execution_count": 6,
   "metadata": {},
   "outputs": [
    {
     "output_type": "stream",
     "name": "stdout",
     "text": [
      "Matlista ['lasagne', 'köttbullar', 'pasta', 'kebab', 'curry', 'grönsaker']\nkebab\nJag gillar att äta lasagne\nJag gillar att äta köttbullar\nJag gillar att äta pasta\nJag gillar att äta kebab\nJag gillar att äta curry\nJag gillar att äta grönsaker\n['Matte', 'Fysik', 'Programmering', 'Svenska']\nJag gillar Matte\nJag gillar Fysik\nJag gillar Programmering\nJag gillar Svenska\n"
     ]
    }
   ],
   "source": [
    "favoritämnen = \"Matte, Fysik, Programmering, Svenska\"\n",
    "mat = \"lasagne köttbullar pasta kebab curry grönsaker\"\n",
    "\n",
    "#print(favoritämnen)\n",
    "\n",
    "matlista = mat.split()\n",
    "ämnen_lista = favoritämnen.split(\", \")\n",
    "\n",
    "print(f\"Matlista {matlista}\")\n",
    "\n",
    "print(matlista[3])\n",
    "\n",
    "for mat in matlista:\n",
    "    print(f\"Jag gillar att äta {mat}\")\n",
    "\n",
    "print(ämnen_lista)\n",
    "\n",
    "for ämne in ämnen_lista:\n",
    "    print(f\"Jag gillar {ämne}\")"
   ]
  },
  {
   "cell_type": "code",
   "execution_count": null,
   "metadata": {},
   "outputs": [],
   "source": []
  }
 ]
}