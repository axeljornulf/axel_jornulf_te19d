{
 "metadata": {
  "orig_nbformat": 2,
  "kernelspec": {
   "name": "python3",
   "display_name": "Python 3"
  }
 },
 "nbformat": 4,
 "nbformat_minor": 2,
 "cells": [
  {
   "cell_type": "markdown",
   "metadata": {},
   "source": [
    "# Tyngdkraft \n",
    "\n",
    "* Fråga användaren om sin vikt\n",
    "* Beräkna tyngdkraften \n",
    "\n",
    "$F = mg$\n"
   ]
  },
  {
   "cell_type": "code",
   "execution_count": 7,
   "metadata": {
    "tags": []
   },
   "outputs": [
    {
     "output_type": "stream",
     "name": "stdout",
     "text": "Din tyngdkraft är 599.02N\nDin tyngdkraft är 599.02 N\n"
    }
   ],
   "source": [
    "# skapar en variabel g och tilldelar det värdet 9.82\n",
    "g = 9.82\n",
    "\n",
    "# input ger oss en sträng, float typomvandlar den till flyttal\n",
    "m = float(input(\"Hur mycket väger du? \"))\n",
    "\n",
    "F = m*g # 599.02\n",
    "\n",
    "print(f\"Din tyngdkraft är {F}N\") #f-string \n",
    "print(\"Din tyngdkraft är\",F,\"N\") "
   ]
  },
  {
   "cell_type": "markdown",
   "metadata": {},
   "source": [
    "# Procent\n",
    "\n",
    "* Fråga användaren om ett decimaltal\n",
    "* Omvandla talet till procent\n"
   ]
  },
  {
   "cell_type": "code",
   "execution_count": 11,
   "metadata": {
    "tags": []
   },
   "outputs": [
    {
     "output_type": "stream",
     "name": "stdout",
     "text": "0.58 = 58%\n0.58 = 58 %\n"
    }
   ],
   "source": [
    "decimalTal = float(input(\"Ange ett decimaltal: \"))\n",
    "procent = decimalTal*100\n",
    "\n",
    "print(f\"{decimalTal} = {procent:.0f}%\")\n",
    "print(decimalTal,\"=\",round(procent),\"%\")"
   ]
  },
  {
   "cell_type": "markdown",
   "metadata": {},
   "source": [
    "# K $\\rightarrow$ °C\n",
    "\n",
    "* Fråga användaren att ange temperaturen i Kelvin och omvandla till °C"
   ]
  },
  {
   "cell_type": "code",
   "execution_count": 2,
   "metadata": {
    "tags": []
   },
   "outputs": [
    {
     "output_type": "stream",
     "name": "stdout",
     "text": "2726.85 grader celsius = 3000.0 Kelvin\n2726.85 grader celsius = 3000 Kelvin\n"
    }
   ],
   "source": [
    "kelvin = float(input(\"Ange Kelvin: \")) \n",
    "grader = kelvin-273.15 # -273.5 celsius är 0 kelvin; absoluta nollpunkt\n",
    "\n",
    "print(f\"{grader} grader celsius = {kelvin} Kelvin\")\n",
    "print(grader, \"grader celsius =\", round(kelvin),\"Kelvin\")"
   ]
  },
  {
   "cell_type": "markdown",
   "metadata": {},
   "source": [
    "# °C $\\rightarrow$ K\n",
    "* Fråga användaren att ange temperaturen i Kelvin och omvandla till °C"
   ]
  },
  {
   "cell_type": "code",
   "execution_count": 3,
   "metadata": {
    "tags": []
   },
   "outputs": [
    {
     "output_type": "stream",
     "name": "stdout",
     "text": "298.15 Kelvin = 25.0 grader celsius\n298.15 Kelvin = 25 grader celsius\n"
    }
   ],
   "source": [
    "grader = float(input(\"Ange grader i celsius: \"))\n",
    "kelvin = grader+273.15 # omvänder formeln till grader + 273.15\n",
    "\n",
    "print(f\"{kelvin} Kelvin = {grader} grader celsius\")\n",
    "print(kelvin, \"Kelvin =\", round(grader),\"grader celsius\")"
   ]
  },
  {
   "cell_type": "markdown",
   "metadata": {},
   "source": [
    "# Västtrafik \n",
    "\n",
    "Engångsbiljett - 30kr <br>\n",
    "månadskort - 775kr\n",
    "\n",
    "Fråga användaren hur många gånger hen åker med västtrafik. Beräkna totala kostnaden om användaren betalar med engångsbiljetter. \n",
    "\n",
    "Bonus: utöka programmet för att ta reda på om det är värt att köpa månadskort eller inte."
   ]
  },
  {
   "cell_type": "code",
   "execution_count": 5,
   "metadata": {
    "tags": []
   },
   "outputs": [
    {
     "output_type": "stream",
     "name": "stdout",
     "text": "Åker man med engångs biljett 30.0 gånger, så kostar det 900.0 kr\nEftersom det kostar 900.0 så är det då värt att betala 775 kr för månadskort.\n"
    }
   ],
   "source": [
    "resor = float(input(\"Ange antal gånger man har åkt: \"))\n",
    "biljett = resor*30\n",
    "kort = 775\n",
    "\n",
    "print(f\"Åker man med engångs biljett {resor} gånger, så kostar det {biljett} kr\")\n",
    "\n",
    "# man betalar 775 kr i månaden för månads kort, man borde använda kortet om antal kostnad för engångsbiljetter kostar mer än vad man betalar varje månad för månadskort\n",
    "\n",
    "if(biljett <= 775):\n",
    "    print(f\"Eftersom det kostar {biljett} kr så är det inte värt att betala {kort} kr för månadskort.\")\n",
    "\n",
    "if(biljett >= 775):\n",
    "    print(f\"Eftersom det kostar {biljett} kr så är det då värt att betala {kort} kr för månadskort.\")"
   ]
  },
  {
   "cell_type": "code",
   "execution_count": null,
   "metadata": {},
   "outputs": [],
   "source": []
  }
 ]
}